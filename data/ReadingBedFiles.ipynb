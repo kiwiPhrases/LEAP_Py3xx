{
 "cells": [
  {
   "cell_type": "code",
   "execution_count": 5,
   "metadata": {
    "collapsed": false
   },
   "outputs": [
    {
     "name": "stdout",
     "output_type": "stream",
     "text": [
      "Requirement already satisfied (use --upgrade to upgrade): plinkio in /opt/conda/lib/python3.4/site-packages\r\n"
     ]
    },
    {
     "data": {
      "text/plain": [
       "'/home/jovyan/work/LEAP/leap/regression/dataset1'"
      ]
     },
     "execution_count": 5,
     "metadata": {},
     "output_type": "execute_result"
    }
   ],
   "source": [
    "!pip install plinkio\n",
    "import os\n",
    "import re\n",
    "import numpy as np\n",
    "import pandas as pd\n",
    "from plinkio import plinkfile\n",
    "os.getcwd()"
   ]
  },
  {
   "cell_type": "code",
   "execution_count": 8,
   "metadata": {
    "collapsed": false
   },
   "outputs": [
    {
     "data": {
      "text/plain": [
       "['extracts',\n",
       " 'dataset1-Copy1.bed',\n",
       " 'dataset1.bed',\n",
       " 'dataset1.cov',\n",
       " '.pversion',\n",
       " 'dataset1.bim',\n",
       " 'dataset1.fam',\n",
       " 'dataset1.phe.liab',\n",
       " 'dataset1.phe']"
      ]
     },
     "execution_count": 8,
     "metadata": {},
     "output_type": "execute_result"
    }
   ],
   "source": [
    "#working with original dataset\n",
    "data_path = '/home/jovyan/work/LEAP/leap/regression/dataset1'\n",
    "os.chdir(data_path)\n",
    "os.listdir()"
   ]
  },
  {
   "cell_type": "code",
   "execution_count": 9,
   "metadata": {
    "collapsed": false
   },
   "outputs": [
    {
     "ename": "OSError",
     "evalue": "Error while trying to open the BED plink file.",
     "output_type": "error",
     "traceback": [
      "\u001b[1;31m---------------------------------------------------------------------------\u001b[0m",
      "\u001b[1;31mOSError\u001b[0m                                   Traceback (most recent call last)",
      "\u001b[1;32m<ipython-input-9-f26433e20e5c>\u001b[0m in \u001b[0;36m<module>\u001b[1;34m()\u001b[0m\n\u001b[1;32m----> 1\u001b[1;33m \u001b[0mplink_file\u001b[0m \u001b[1;33m=\u001b[0m \u001b[0mplinkfile\u001b[0m\u001b[1;33m.\u001b[0m\u001b[0mopen\u001b[0m\u001b[1;33m(\u001b[0m\u001b[1;34m'dataset1-Copy1.bed'\u001b[0m\u001b[1;33m)\u001b[0m\u001b[1;33m\u001b[0m\u001b[0m\n\u001b[0m",
      "\u001b[1;32m/opt/conda/lib/python3.4/site-packages/plinkio/plinkfile.py\u001b[0m in \u001b[0;36mopen\u001b[1;34m(path)\u001b[0m\n\u001b[0;32m    228\u001b[0m \u001b[1;31m#\u001b[0m\u001b[1;33m\u001b[0m\u001b[1;33m\u001b[0m\u001b[0m\n\u001b[0;32m    229\u001b[0m \u001b[1;32mdef\u001b[0m \u001b[0mopen\u001b[0m\u001b[1;33m(\u001b[0m\u001b[0mpath\u001b[0m\u001b[1;33m)\u001b[0m\u001b[1;33m:\u001b[0m\u001b[1;33m\u001b[0m\u001b[0m\n\u001b[1;32m--> 230\u001b[1;33m     \u001b[1;32mreturn\u001b[0m \u001b[0mPlinkFile\u001b[0m\u001b[1;33m(\u001b[0m \u001b[0mpath\u001b[0m \u001b[1;33m)\u001b[0m\u001b[1;33m\u001b[0m\u001b[0m\n\u001b[0m\u001b[0;32m    231\u001b[0m \u001b[1;33m\u001b[0m\u001b[0m\n\u001b[0;32m    232\u001b[0m \u001b[1;31m##\u001b[0m\u001b[1;33m\u001b[0m\u001b[1;33m\u001b[0m\u001b[0m\n",
      "\u001b[1;32m/opt/conda/lib/python3.4/site-packages/plinkio/plinkfile.py\u001b[0m in \u001b[0;36m__init__\u001b[1;34m(self, path)\u001b[0m\n\u001b[0;32m     12\u001b[0m     \u001b[1;32mdef\u001b[0m \u001b[0m__init__\u001b[0m\u001b[1;33m(\u001b[0m\u001b[0mself\u001b[0m\u001b[1;33m,\u001b[0m \u001b[0mpath\u001b[0m\u001b[1;33m)\u001b[0m\u001b[1;33m:\u001b[0m\u001b[1;33m\u001b[0m\u001b[0m\n\u001b[0;32m     13\u001b[0m         \u001b[0mself\u001b[0m\u001b[1;33m.\u001b[0m\u001b[0mpath\u001b[0m \u001b[1;33m=\u001b[0m \u001b[0mpath\u001b[0m\u001b[1;33m\u001b[0m\u001b[0m\n\u001b[1;32m---> 14\u001b[1;33m         \u001b[0mself\u001b[0m\u001b[1;33m.\u001b[0m\u001b[0mhandle\u001b[0m \u001b[1;33m=\u001b[0m \u001b[0mcplinkio\u001b[0m\u001b[1;33m.\u001b[0m\u001b[0mopen\u001b[0m\u001b[1;33m(\u001b[0m \u001b[0mpath\u001b[0m \u001b[1;33m)\u001b[0m\u001b[1;33m\u001b[0m\u001b[0m\n\u001b[0m\u001b[0;32m     15\u001b[0m         \u001b[0mself\u001b[0m\u001b[1;33m.\u001b[0m\u001b[0mloci\u001b[0m \u001b[1;33m=\u001b[0m \u001b[0mcplinkio\u001b[0m\u001b[1;33m.\u001b[0m\u001b[0mget_loci\u001b[0m\u001b[1;33m(\u001b[0m \u001b[0mself\u001b[0m\u001b[1;33m.\u001b[0m\u001b[0mhandle\u001b[0m \u001b[1;33m)\u001b[0m\u001b[1;33m\u001b[0m\u001b[0m\n\u001b[0;32m     16\u001b[0m         \u001b[0mself\u001b[0m\u001b[1;33m.\u001b[0m\u001b[0msamples\u001b[0m \u001b[1;33m=\u001b[0m \u001b[0mcplinkio\u001b[0m\u001b[1;33m.\u001b[0m\u001b[0mget_samples\u001b[0m\u001b[1;33m(\u001b[0m \u001b[0mself\u001b[0m\u001b[1;33m.\u001b[0m\u001b[0mhandle\u001b[0m \u001b[1;33m)\u001b[0m\u001b[1;33m\u001b[0m\u001b[0m\n",
      "\u001b[1;31mOSError\u001b[0m: Error while trying to open the BED plink file."
     ]
    }
   ],
   "source": [
    "#Doesn't work, error message is ambiguous. -chance that file is concurrently\n",
    "#open elsewhere but after trying to resolve that, it still doesn't work.\n",
    "#plink_file = plinkfile.open('dataset1-Copy1.bed')"
   ]
  },
  {
   "cell_type": "code",
   "execution_count": 20,
   "metadata": {
    "collapsed": false
   },
   "outputs": [
    {
     "name": "stdout",
     "output_type": "stream",
     "text": [
      "['bfile_test.map', 'bfile_test.bim', 'toy.ped', 'bfile_test.fam', 'LICENSE', 'bfile_test.phe.liab', 'bfile_test.ped', 'plink.exe', 'bfile_test.confounders', 'bfile_test_pca.ped', 'ReadingBedFiles.ipynb', 'bfile_test.log', 'bfile_test.frq', 'genData_py3xx.py', 'bfile_test.bed', 'bfile_test.phe', 'toy.map', '.ipynb_checkpoints', 'prettify.exe', 'bfile_test.cov', 'bfile_test.genes']\n"
     ]
    }
   ],
   "source": [
    "os.chdir('/home/jovyan/work/STA-663-Final-Project/data')\n",
    "print(os.listdir())\n",
    "plink_file = plinkfile.open('./bfile_test'  )"
   ]
  },
  {
   "cell_type": "code",
   "execution_count": 15,
   "metadata": {
    "collapsed": false
   },
   "outputs": [
    {
     "name": "stdout",
     "output_type": "stream",
     "text": [
      "Length of sample list: 2000\n",
      "Length of locus list: 5500\n"
     ]
    }
   ],
   "source": [
    "sample_list = plink_file.get_samples( )\n",
    "locus_list = plink_file.get_loci( )\n",
    "\n",
    "#https://github.com/mfranberg/libplinkio - documentation for libplinkio\n",
    "\"\"\"\n",
    "for locus, row in zip( locus_list, plink_file ):\n",
    "    for sample, genotype in zip( sample_list, row ):\n",
    "        print( \"Individual {0} has genotype {1} for snp {2}.\".format( sample.iid, genotype, locus.name ) )\n",
    "\"\"\"\n",
    "print(\"Length of sample list: %d\\nLength of locus list: %d\" %(len(sample_list),len(locus_list)))"
   ]
  },
  {
   "cell_type": "code",
   "execution_count": 16,
   "metadata": {
    "collapsed": false
   },
   "outputs": [],
   "source": [
    "locus = locus_list[5499]"
   ]
  },
  {
   "cell_type": "code",
   "execution_count": 18,
   "metadata": {
    "collapsed": false
   },
   "outputs": [
    {
     "data": {
      "text/plain": [
       "'csnp14'"
      ]
     },
     "execution_count": 18,
     "metadata": {},
     "output_type": "execute_result"
    }
   ],
   "source": [
    "locus_list[13].name"
   ]
  },
  {
   "cell_type": "code",
   "execution_count": 31,
   "metadata": {
    "collapsed": false
   },
   "outputs": [
    {
     "data": {
      "text/plain": [
       "array([-3.50484991, -3.2686801 , -2.93916988, ...,  4.24201012,\n",
       "        4.54550982,  4.59317017])"
      ]
     },
     "execution_count": 31,
     "metadata": {},
     "output_type": "execute_result"
    }
   ],
   "source": [
    "##what can we do with the phenotype fill\n",
    "pheno_arr = np.array([x.phenotype for x in sample_list])\n",
    "np.unique(pheno_arr)"
   ]
  }
 ],
 "metadata": {
  "kernelspec": {
   "display_name": "Python 3",
   "language": "python",
   "name": "python3"
  },
  "language_info": {
   "codemirror_mode": {
    "name": "ipython",
    "version": 3
   },
   "file_extension": ".py",
   "mimetype": "text/x-python",
   "name": "python",
   "nbconvert_exporter": "python",
   "pygments_lexer": "ipython3",
   "version": "3.4.4"
  }
 },
 "nbformat": 4,
 "nbformat_minor": 0
}
