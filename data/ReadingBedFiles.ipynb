{
 "cells": [
  {
   "cell_type": "code",
   "execution_count": null,
   "metadata": {
    "collapsed": false
   },
   "outputs": [],
   "source": [
    "##Author: Gene Burinskiy\n",
    "\n",
    "!pip install plinkio\n",
    "#!pip install h5py --for some reason, h5py doesn't install :/\n",
    "#!pip install tables --since h5py can't be installed, neither can tables"
   ]
  },
  {
   "cell_type": "code",
   "execution_count": 1,
   "metadata": {
    "collapsed": false
   },
   "outputs": [
    {
     "data": {
      "text/plain": [
       "'/home/jovyan/work/STA-663-Final-Project/data'"
      ]
     },
     "execution_count": 1,
     "metadata": {},
     "output_type": "execute_result"
    }
   ],
   "source": [
    "import os\n",
    "import re\n",
    "import numpy as np\n",
    "import pandas as pd\n",
    "from plinkio import plinkfile\n",
    "os.getcwd()"
   ]
  },
  {
   "cell_type": "code",
   "execution_count": 2,
   "metadata": {
    "collapsed": false
   },
   "outputs": [
    {
     "data": {
      "text/plain": [
       "['extracts',\n",
       " 'dataset1-Copy1.bed',\n",
       " 'dataset1.bed',\n",
       " 'dataset1.cov',\n",
       " '.pversion',\n",
       " 'dataset1.bim',\n",
       " 'dataset1.fam',\n",
       " 'dataset1.phe.liab',\n",
       " 'dataset1.phe']"
      ]
     },
     "execution_count": 2,
     "metadata": {},
     "output_type": "execute_result"
    }
   ],
   "source": [
    "#working with original dataset\n",
    "data_path = '/home/jovyan/work/LEAP/leap/regression/dataset1'\n",
    "os.chdir(data_path)\n",
    "os.listdir()"
   ]
  },
  {
   "cell_type": "code",
   "execution_count": 3,
   "metadata": {
    "collapsed": false
   },
   "outputs": [],
   "source": [
    "bed = plinkfile.open(\"dataset1\")"
   ]
  },
  {
   "cell_type": "code",
   "execution_count": 4,
   "metadata": {
    "collapsed": false
   },
   "outputs": [
    {
     "data": {
      "text/plain": [
       "10499"
      ]
     },
     "execution_count": 4,
     "metadata": {},
     "output_type": "execute_result"
    }
   ],
   "source": [
    "loci = bed.get_loci()\n",
    "len(loci)"
   ]
  },
  {
   "cell_type": "code",
   "execution_count": 5,
   "metadata": {
    "collapsed": false
   },
   "outputs": [],
   "source": [
    "locus = loci[0]"
   ]
  },
  {
   "cell_type": "code",
   "execution_count": 7,
   "metadata": {
    "collapsed": false
   },
   "outputs": [
    {
     "data": {
      "text/plain": [
       "'csnp18'"
      ]
     },
     "execution_count": 7,
     "metadata": {},
     "output_type": "execute_result"
    }
   ],
   "source": [
    "locus.name"
   ]
  },
  {
   "cell_type": "code",
   "execution_count": 8,
   "metadata": {
    "collapsed": false
   },
   "outputs": [
    {
     "data": {
      "text/plain": [
       "1"
      ]
     },
     "execution_count": 8,
     "metadata": {},
     "output_type": "execute_result"
    }
   ],
   "source": [
    "locus.chromosome"
   ]
  },
  {
   "cell_type": "code",
   "execution_count": 9,
   "metadata": {
    "collapsed": false
   },
   "outputs": [
    {
     "data": {
      "text/plain": [
       "array([ 1,  2,  3,  4,  5,  6,  7,  8,  9, 10])"
      ]
     },
     "execution_count": 9,
     "metadata": {},
     "output_type": "execute_result"
    }
   ],
   "source": [
    "np.unique([x.chromosome for x in loci])"
   ]
  },
  {
   "cell_type": "code",
   "execution_count": 7,
   "metadata": {
    "collapsed": false
   },
   "outputs": [
    {
     "name": "stdout",
     "output_type": "stream",
     "text": [
      "Object of type:  <class 'list'> and length: 1000\n"
     ]
    }
   ],
   "source": [
    "samples = bed.get_samples()\n",
    "print(\"Object of type: \",type(samples), \"and length:\" ,len(samples))"
   ]
  },
  {
   "cell_type": "code",
   "execution_count": 8,
   "metadata": {
    "collapsed": false
   },
   "outputs": [],
   "source": [
    "sample = samples[500]"
   ]
  },
  {
   "cell_type": "code",
   "execution_count": 9,
   "metadata": {
    "collapsed": false
   },
   "outputs": [
    {
     "name": "stdout",
     "output_type": "stream",
     "text": [
      "FAM1 0 person501 3.591670036315918 1\n"
     ]
    }
   ],
   "source": [
    "print(sample.fid, sample.father_iid, sample.iid, sample.phenotype, sample.sex)"
   ]
  },
  {
   "cell_type": "code",
   "execution_count": 10,
   "metadata": {
    "collapsed": false
   },
   "outputs": [],
   "source": [
    "h = [row for row in bed][0]"
   ]
  },
  {
   "cell_type": "code",
   "execution_count": 11,
   "metadata": {
    "collapsed": false
   },
   "outputs": [
    {
     "data": {
      "text/plain": [
       "1000"
      ]
     },
     "execution_count": 11,
     "metadata": {},
     "output_type": "execute_result"
    }
   ],
   "source": [
    "len([x for x in h])"
   ]
  },
  {
   "cell_type": "code",
   "execution_count": 12,
   "metadata": {
    "collapsed": false
   },
   "outputs": [],
   "source": [
    "##each row in bed is of length 10000 and there are 10,499 rows thus to make a matrix:\n",
    "mat = np.zeros((10499,1000), dtype='int16') #1/4 of the taken up space\n",
    "\n",
    "i=0\n",
    "for row in bed:\n",
    "    mat[i,:] = np.array([snp for snp in row])\n",
    "    i+=1"
   ]
  },
  {
   "cell_type": "code",
   "execution_count": 13,
   "metadata": {
    "collapsed": false
   },
   "outputs": [
    {
     "name": "stdout",
     "output_type": "stream",
     "text": [
      "Data type: int16\n",
      "[[2 1 0 2 0]\n",
      " [1 0 2 1 1]]\n",
      "Size of bed matrix:   20mb\n"
     ]
    }
   ],
   "source": [
    "#this matrix is equivalent to transposed bed.val\n",
    "print(\"Data type:\", mat.dtype)\n",
    "print(mat[:2,:5])\n",
    "print(\"Size of bed matrix: %4.0fmb\" %(mat.nbytes/(1024**2)))"
   ]
  },
  {
   "cell_type": "code",
   "execution_count": 14,
   "metadata": {
    "collapsed": false
   },
   "outputs": [
    {
     "data": {
      "text/html": [
       "<div>\n",
       "<table border=\"1\" class=\"dataframe\">\n",
       "  <thead>\n",
       "    <tr style=\"text-align: right;\">\n",
       "      <th></th>\n",
       "      <th>csnp18</th>\n",
       "      <th>csnp35</th>\n",
       "      <th>csnp59</th>\n",
       "      <th>csnp78</th>\n",
       "      <th>csnp85</th>\n",
       "    </tr>\n",
       "  </thead>\n",
       "  <tbody>\n",
       "    <tr>\n",
       "      <th>person1</th>\n",
       "      <td>2</td>\n",
       "      <td>1</td>\n",
       "      <td>1</td>\n",
       "      <td>2</td>\n",
       "      <td>1</td>\n",
       "    </tr>\n",
       "    <tr>\n",
       "      <th>person2</th>\n",
       "      <td>1</td>\n",
       "      <td>0</td>\n",
       "      <td>2</td>\n",
       "      <td>2</td>\n",
       "      <td>2</td>\n",
       "    </tr>\n",
       "    <tr>\n",
       "      <th>person3</th>\n",
       "      <td>0</td>\n",
       "      <td>2</td>\n",
       "      <td>2</td>\n",
       "      <td>2</td>\n",
       "      <td>2</td>\n",
       "    </tr>\n",
       "    <tr>\n",
       "      <th>person4</th>\n",
       "      <td>2</td>\n",
       "      <td>1</td>\n",
       "      <td>2</td>\n",
       "      <td>2</td>\n",
       "      <td>1</td>\n",
       "    </tr>\n",
       "    <tr>\n",
       "      <th>person5</th>\n",
       "      <td>0</td>\n",
       "      <td>1</td>\n",
       "      <td>2</td>\n",
       "      <td>1</td>\n",
       "      <td>2</td>\n",
       "    </tr>\n",
       "  </tbody>\n",
       "</table>\n",
       "</div>"
      ],
      "text/plain": [
       "         csnp18  csnp35  csnp59  csnp78  csnp85\n",
       "person1       2       1       1       2       1\n",
       "person2       1       0       2       2       2\n",
       "person3       0       2       2       2       2\n",
       "person4       2       1       2       2       1\n",
       "person5       0       1       2       1       2"
      ]
     },
     "execution_count": 14,
     "metadata": {},
     "output_type": "execute_result"
    }
   ],
   "source": [
    "df = pd.DataFrame(mat.transpose()) #normally, it reads them in as floats which is a huge waste of space\n",
    "df.columns = [x.name for x in loci]\n",
    "df.index = [x.iid for x in bed.get_samples()] #could also double index on chromosomes\n",
    "df.iloc[:5,:5]"
   ]
  },
  {
   "cell_type": "code",
   "execution_count": 23,
   "metadata": {
    "collapsed": false
   },
   "outputs": [
    {
     "data": {
      "text/plain": [
       "array([dtype('float64')], dtype=object)"
      ]
     },
     "execution_count": 23,
     "metadata": {},
     "output_type": "execute_result"
    }
   ],
   "source": [
    "np.unique(df.dtypes)"
   ]
  },
  {
   "cell_type": "code",
   "execution_count": 39,
   "metadata": {
    "collapsed": false
   },
   "outputs": [
    {
     "data": {
      "text/html": [
       "<div>\n",
       "<table border=\"1\" class=\"dataframe\">\n",
       "  <thead>\n",
       "    <tr style=\"text-align: right;\">\n",
       "      <th></th>\n",
       "      <th>csnp18</th>\n",
       "      <th>csnp35</th>\n",
       "      <th>csnp59</th>\n",
       "      <th>csnp78</th>\n",
       "      <th>csnp85</th>\n",
       "    </tr>\n",
       "  </thead>\n",
       "  <tbody>\n",
       "    <tr>\n",
       "      <th>person1</th>\n",
       "      <td>0.68</td>\n",
       "      <td>-0.191</td>\n",
       "      <td>-0.561</td>\n",
       "      <td>0.675</td>\n",
       "      <td>-0.734</td>\n",
       "    </tr>\n",
       "    <tr>\n",
       "      <th>person2</th>\n",
       "      <td>-0.32</td>\n",
       "      <td>-1.191</td>\n",
       "      <td>0.439</td>\n",
       "      <td>0.675</td>\n",
       "      <td>0.266</td>\n",
       "    </tr>\n",
       "    <tr>\n",
       "      <th>person3</th>\n",
       "      <td>-1.32</td>\n",
       "      <td>0.809</td>\n",
       "      <td>0.439</td>\n",
       "      <td>0.675</td>\n",
       "      <td>0.266</td>\n",
       "    </tr>\n",
       "    <tr>\n",
       "      <th>person4</th>\n",
       "      <td>0.68</td>\n",
       "      <td>-0.191</td>\n",
       "      <td>0.439</td>\n",
       "      <td>0.675</td>\n",
       "      <td>-0.734</td>\n",
       "    </tr>\n",
       "    <tr>\n",
       "      <th>person5</th>\n",
       "      <td>-1.32</td>\n",
       "      <td>-0.191</td>\n",
       "      <td>0.439</td>\n",
       "      <td>-0.325</td>\n",
       "      <td>0.266</td>\n",
       "    </tr>\n",
       "  </tbody>\n",
       "</table>\n",
       "</div>"
      ],
      "text/plain": [
       "         csnp18  csnp35  csnp59  csnp78  csnp85\n",
       "person1    0.68  -0.191  -0.561   0.675  -0.734\n",
       "person2   -0.32  -1.191   0.439   0.675   0.266\n",
       "person3   -1.32   0.809   0.439   0.675   0.266\n",
       "person4    0.68  -0.191   0.439   0.675  -0.734\n",
       "person5   -1.32  -0.191   0.439  -0.325   0.266"
      ]
     },
     "execution_count": 39,
     "metadata": {},
     "output_type": "execute_result"
    }
   ],
   "source": [
    "df = df.astype('float32')-df.astype('float32').mean() #this gets us pretty close to their normalization stuff\n",
    "df.iloc[:5,:5]"
   ]
  },
  {
   "cell_type": "code",
   "execution_count": null,
   "metadata": {
    "collapsed": false
   },
   "outputs": [],
   "source": [
    "##Save the file to sql db - not feasible for this data\n",
    "#from sqlalchemy import create_engine\n",
    "\n",
    "#engine = create_engine('sqlite:///dataset1.db', echo=False)\n",
    "#df.transpose().to_sql(name='dataset1', con=engine, if_exists = 'replace', index=True)\n"
   ]
  },
  {
   "cell_type": "code",
   "execution_count": 46,
   "metadata": {
    "collapsed": false
   },
   "outputs": [
    {
     "name": "stdout",
     "output_type": "stream",
     "text": [
      "1 loop, best of 3: 351 ms per loop\n"
     ]
    }
   ],
   "source": [
    "%%timeit\n",
    "np.cov(df)"
   ]
  },
  {
   "cell_type": "code",
   "execution_count": 48,
   "metadata": {
    "collapsed": false
   },
   "outputs": [
    {
     "name": "stdout",
     "output_type": "stream",
     "text": [
      "Shave of covariance matrix: (1000, 1000)\n"
     ]
    },
    {
     "data": {
      "text/plain": [
       "array([[ 0.36811042,  0.00135157, -0.00864516, -0.00117112,  0.00388046],\n",
       "       [ 0.00135157,  0.35819185,  0.00338288,  0.0022566 ,  0.00138279],\n",
       "       [-0.00864516,  0.00338288,  0.3628521 ,  0.00443158, -0.00057136],\n",
       "       [-0.00117112,  0.0022566 ,  0.00443158,  0.36309709,  0.00184398],\n",
       "       [ 0.00388046,  0.00138279, -0.00057136,  0.00184398,  0.37099303]])"
      ]
     },
     "execution_count": 48,
     "metadata": {},
     "output_type": "execute_result"
    }
   ],
   "source": [
    "cov = np.cov(df)\n",
    "print(\"Shave of covariance matrix:\", cov.shape)\n",
    "cov[:5,:5]"
   ]
  },
  {
   "cell_type": "code",
   "execution_count": null,
   "metadata": {
    "collapsed": true
   },
   "outputs": [],
   "source": [
    "%%timeit\n"
   ]
  },
  {
   "cell_type": "code",
   "execution_count": 20,
   "metadata": {
    "collapsed": false
   },
   "outputs": [
    {
     "data": {
      "text/plain": [
       "\"\\nDependencies don't quite exist. \\nfrom pandas import HDFStore\\n\\nhdf = HDFStore('dataset1.h5')\\n# put the dataset in the storage\\nhdf.put('dataset1', df, format='table', data_columns=True)\\n\\nhdf.append('d1', DataFrame(np.random.rand(5,3), \\n           columns=('A','B','C')), \\n           format='table', data_columns=True)\\nhdf.close() # closes the file\\n\\nhdf = read_hdf('storage.h5', 'd1',\\n               where=['A>.5'], columns=['A','B'])\\n\""
      ]
     },
     "execution_count": 20,
     "metadata": {},
     "output_type": "execute_result"
    }
   ],
   "source": [
    "\"\"\"\n",
    "Dependencies don't quite exist. \n",
    "from pandas import HDFStore\n",
    "\n",
    "hdf = HDFStore('dataset1.h5')\n",
    "# put the dataset in the storage\n",
    "hdf.put('dataset1', df, format='table', data_columns=True)\n",
    "\n",
    "hdf.append('d1', DataFrame(np.random.rand(5,3), \n",
    "           columns=('A','B','C')), \n",
    "           format='table', data_columns=True)\n",
    "hdf.close() # closes the file\n",
    "\n",
    "hdf = read_hdf('storage.h5', 'd1',\n",
    "               where=['A>.5'], columns=['A','B'])\n",
    "\"\"\"              "
   ]
  },
  {
   "cell_type": "code",
   "execution_count": null,
   "metadata": {
    "collapsed": true
   },
   "outputs": [],
   "source": []
  },
  {
   "cell_type": "code",
   "execution_count": null,
   "metadata": {
    "collapsed": true
   },
   "outputs": [],
   "source": []
  },
  {
   "cell_type": "code",
   "execution_count": null,
   "metadata": {
    "collapsed": true
   },
   "outputs": [],
   "source": []
  }
 ],
 "metadata": {
  "kernelspec": {
   "display_name": "Python 3",
   "language": "python",
   "name": "python3"
  },
  "language_info": {
   "codemirror_mode": {
    "name": "ipython",
    "version": 3
   },
   "file_extension": ".py",
   "mimetype": "text/x-python",
   "name": "python",
   "nbconvert_exporter": "python",
   "pygments_lexer": "ipython3",
   "version": "3.4.4"
  }
 },
 "nbformat": 4,
 "nbformat_minor": 0
}
