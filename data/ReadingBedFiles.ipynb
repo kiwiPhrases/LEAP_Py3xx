{
 "cells": [
  {
   "cell_type": "code",
   "execution_count": 2,
   "metadata": {
    "collapsed": false
   },
   "outputs": [
    {
     "name": "stdout",
     "output_type": "stream",
     "text": [
      "Requirement already satisfied (use --upgrade to upgrade): plinkio in /opt/conda/lib/python3.4/site-packages\r\n"
     ]
    },
    {
     "data": {
      "text/plain": [
       "'/home/jovyan/work/STA-663-Final-Project/data'"
      ]
     },
     "execution_count": 2,
     "metadata": {},
     "output_type": "execute_result"
    }
   ],
   "source": [
    "!pip install plinkio\n",
    "import os\n",
    "import re\n",
    "import numpy as np\n",
    "import pandas as pd\n",
    "from plinkio import plinkfile\n",
    "os.getcwd()"
   ]
  },
  {
   "cell_type": "code",
   "execution_count": 3,
   "metadata": {
    "collapsed": false
   },
   "outputs": [
    {
     "data": {
      "text/plain": [
       "['extracts',\n",
       " 'dataset1-Copy1.bed',\n",
       " 'dataset1.bed',\n",
       " 'dataset1.cov',\n",
       " '.pversion',\n",
       " 'dataset1.bim',\n",
       " 'dataset1.fam',\n",
       " 'dataset1.phe.liab',\n",
       " 'dataset1.phe']"
      ]
     },
     "execution_count": 3,
     "metadata": {},
     "output_type": "execute_result"
    }
   ],
   "source": [
    "#working with original dataset\n",
    "data_path = '/home/jovyan/work/LEAP/leap/regression/dataset1'\n",
    "os.chdir(data_path)\n",
    "os.listdir()"
   ]
  },
  {
   "cell_type": "code",
   "execution_count": 3,
   "metadata": {
    "collapsed": false
   },
   "outputs": [
    {
     "name": "stdout",
     "output_type": "stream",
     "text": [
      "['bfile_test.map', 'bfile_test.bim', 'toy.ped', 'bfile_test.fam', 'LICENSE', 'bfile_test.phe.liab', 'bfile_test.ped', 'plink.exe', 'bfile_test.confounders', 'bfile_test_pca.ped', 'ReadingBedFiles.ipynb', 'bfile_test.log', 'Untitled.ipynb', 'bfile_test.frq', 'Untitled1.ipynb', 'genData_py3xx.py', 'bfile_test.bed', 'bfile_test.phe', 'toy.map', 'DataStructureExploration_py2.xx.ipynb', '.ipynb_checkpoints', 'prettify.exe', 'bfile_test.cov', 'bfile_test.genes']\n"
     ]
    }
   ],
   "source": [
    "\"\"\"\n",
    "os.chdir('/home/jovyan/work/STA-663-Final-Project/data')\n",
    "print(os.listdir())\n",
    "plink_file = plinkfile.open('./bfile_test'  )\n",
    "\"\"\""
   ]
  },
  {
   "cell_type": "code",
   "execution_count": null,
   "metadata": {
    "collapsed": false
   },
   "outputs": [],
   "source": [
    "\"\"\"\n",
    "sample_list = plink_file.get_samples( )\n",
    "locus_list = plink_file.get_loci( )\n",
    "\n",
    "#https://github.com/mfranberg/libplinkio - documentation for libplinkio\n",
    "\n",
    "for locus, row in zip( locus_list, plink_file ):\n",
    "    for sample, genotype in zip( sample_list, row ):\n",
    "        print( \"Individual {0} has genotype {1} for snp {2}.\".format( sample.iid, genotype, locus.name ) )\n",
    "\n",
    "print(\"Length of sample list: %d\\nLength of locus list: %d\" %(len(sample_list),len(locus_list)))\n",
    "\"\"\""
   ]
  },
  {
   "cell_type": "code",
   "execution_count": null,
   "metadata": {
    "collapsed": false
   },
   "outputs": [],
   "source": [
    "locus = locus_list[5499]"
   ]
  },
  {
   "cell_type": "code",
   "execution_count": null,
   "metadata": {
    "collapsed": false
   },
   "outputs": [],
   "source": [
    "locus_list[13].name"
   ]
  },
  {
   "cell_type": "code",
   "execution_count": null,
   "metadata": {
    "collapsed": false
   },
   "outputs": [],
   "source": [
    "##what can we do with the phenotype file\n",
    "pheno_arr = np.array([x.phenotype for x in sample_list])\n",
    "np.unique(pheno_arr)\n",
    "len(pheno_arr)"
   ]
  },
  {
   "cell_type": "code",
   "execution_count": null,
   "metadata": {
    "collapsed": false
   },
   "outputs": [],
   "source": [
    "#try to load the bed file form dataset 1 by setting appropriate path above\n",
    "os.listdir()"
   ]
  },
  {
   "cell_type": "code",
   "execution_count": 4,
   "metadata": {
    "collapsed": false
   },
   "outputs": [],
   "source": [
    "bed = plinkfile.open(\"dataset1\")"
   ]
  },
  {
   "cell_type": "code",
   "execution_count": 5,
   "metadata": {
    "collapsed": false
   },
   "outputs": [
    {
     "data": {
      "text/plain": [
       "10499"
      ]
     },
     "execution_count": 5,
     "metadata": {},
     "output_type": "execute_result"
    }
   ],
   "source": [
    "loci = bed.get_loci()\n",
    "len(loci)"
   ]
  },
  {
   "cell_type": "code",
   "execution_count": 6,
   "metadata": {
    "collapsed": false
   },
   "outputs": [],
   "source": [
    "locus = loci[0]"
   ]
  },
  {
   "cell_type": "code",
   "execution_count": 27,
   "metadata": {
    "collapsed": false
   },
   "outputs": [
    {
     "data": {
      "text/plain": [
       "'csnp18'"
      ]
     },
     "execution_count": 27,
     "metadata": {},
     "output_type": "execute_result"
    }
   ],
   "source": [
    "locus.name"
   ]
  },
  {
   "cell_type": "code",
   "execution_count": 8,
   "metadata": {
    "collapsed": false
   },
   "outputs": [
    {
     "data": {
      "text/plain": [
       "1"
      ]
     },
     "execution_count": 8,
     "metadata": {},
     "output_type": "execute_result"
    }
   ],
   "source": [
    "locus.chromosome"
   ]
  },
  {
   "cell_type": "code",
   "execution_count": 9,
   "metadata": {
    "collapsed": false
   },
   "outputs": [
    {
     "data": {
      "text/plain": [
       "array([ 1,  2,  3,  4,  5,  6,  7,  8,  9, 10])"
      ]
     },
     "execution_count": 9,
     "metadata": {},
     "output_type": "execute_result"
    }
   ],
   "source": [
    "np.unique([x.chromosome for x in loci])"
   ]
  },
  {
   "cell_type": "code",
   "execution_count": 12,
   "metadata": {
    "collapsed": false
   },
   "outputs": [
    {
     "name": "stdout",
     "output_type": "stream",
     "text": [
      "Object of type:  <class 'list'> and length: 1000\n"
     ]
    }
   ],
   "source": [
    "samples = bed.get_samples()\n",
    "print(\"Object of type: \",type(samples), \"and length:\" ,len(samples))"
   ]
  },
  {
   "cell_type": "code",
   "execution_count": 13,
   "metadata": {
    "collapsed": false
   },
   "outputs": [],
   "source": [
    "sample = samples[500]"
   ]
  },
  {
   "cell_type": "code",
   "execution_count": 14,
   "metadata": {
    "collapsed": false
   },
   "outputs": [
    {
     "name": "stdout",
     "output_type": "stream",
     "text": [
      "FAM1 0 person501 3.591670036315918 1\n"
     ]
    }
   ],
   "source": [
    "print(sample.fid, sample.father_iid, sample.iid, sample.phenotype, sample.sex)"
   ]
  },
  {
   "cell_type": "code",
   "execution_count": 38,
   "metadata": {
    "collapsed": false
   },
   "outputs": [],
   "source": [
    "h = [row for row in bed][0]"
   ]
  },
  {
   "cell_type": "code",
   "execution_count": 44,
   "metadata": {
    "collapsed": false
   },
   "outputs": [
    {
     "data": {
      "text/plain": [
       "1000"
      ]
     },
     "execution_count": 44,
     "metadata": {},
     "output_type": "execute_result"
    }
   ],
   "source": [
    "len([x for x in h])"
   ]
  },
  {
   "cell_type": "code",
   "execution_count": 45,
   "metadata": {
    "collapsed": false
   },
   "outputs": [],
   "source": [
    "##each row in bed is of length 10000 and there are 10,499 rows thus to make a matrix:\n",
    "mat = np.zeros((10499,1000))\n",
    "\n",
    "i=0\n",
    "for row in bed:\n",
    "    mat[i,:] = np.array([snp for snp in row])\n",
    "    i+=1"
   ]
  },
  {
   "cell_type": "code",
   "execution_count": 52,
   "metadata": {
    "collapsed": false
   },
   "outputs": [
    {
     "data": {
      "text/plain": [
       "array([[ 2.,  1.,  0.,  2.,  0.],\n",
       "       [ 1.,  0.,  2.,  1.,  1.]])"
      ]
     },
     "execution_count": 52,
     "metadata": {},
     "output_type": "execute_result"
    }
   ],
   "source": [
    "#this matrix is equivalent to transposed bed.val\n",
    "mat[:2,:5]"
   ]
  },
  {
   "cell_type": "code",
   "execution_count": 53,
   "metadata": {
    "collapsed": false
   },
   "outputs": [
    {
     "data": {
      "text/html": [
       "<div>\n",
       "<table border=\"1\" class=\"dataframe\">\n",
       "  <thead>\n",
       "    <tr style=\"text-align: right;\">\n",
       "      <th></th>\n",
       "      <th>csnp18</th>\n",
       "      <th>csnp35</th>\n",
       "      <th>csnp59</th>\n",
       "      <th>csnp78</th>\n",
       "      <th>csnp85</th>\n",
       "    </tr>\n",
       "  </thead>\n",
       "  <tbody>\n",
       "    <tr>\n",
       "      <th>person1</th>\n",
       "      <td>2</td>\n",
       "      <td>1</td>\n",
       "      <td>1</td>\n",
       "      <td>2</td>\n",
       "      <td>1</td>\n",
       "    </tr>\n",
       "    <tr>\n",
       "      <th>person2</th>\n",
       "      <td>1</td>\n",
       "      <td>0</td>\n",
       "      <td>2</td>\n",
       "      <td>2</td>\n",
       "      <td>2</td>\n",
       "    </tr>\n",
       "    <tr>\n",
       "      <th>person3</th>\n",
       "      <td>0</td>\n",
       "      <td>2</td>\n",
       "      <td>2</td>\n",
       "      <td>2</td>\n",
       "      <td>2</td>\n",
       "    </tr>\n",
       "    <tr>\n",
       "      <th>person4</th>\n",
       "      <td>2</td>\n",
       "      <td>1</td>\n",
       "      <td>2</td>\n",
       "      <td>2</td>\n",
       "      <td>1</td>\n",
       "    </tr>\n",
       "    <tr>\n",
       "      <th>person5</th>\n",
       "      <td>0</td>\n",
       "      <td>1</td>\n",
       "      <td>2</td>\n",
       "      <td>1</td>\n",
       "      <td>2</td>\n",
       "    </tr>\n",
       "  </tbody>\n",
       "</table>\n",
       "</div>"
      ],
      "text/plain": [
       "         csnp18  csnp35  csnp59  csnp78  csnp85\n",
       "person1       2       1       1       2       1\n",
       "person2       1       0       2       2       2\n",
       "person3       0       2       2       2       2\n",
       "person4       2       1       2       2       1\n",
       "person5       0       1       2       1       2"
      ]
     },
     "execution_count": 53,
     "metadata": {},
     "output_type": "execute_result"
    }
   ],
   "source": [
    "df = pd.DataFrame(mat.transpose())\n",
    "df.columns = [x.name for x in loci]\n",
    "df.index = [x.iid for x in bed.get_samples()]\n",
    "df.iloc[:5,:5]"
   ]
  },
  {
   "cell_type": "code",
   "execution_count": null,
   "metadata": {
    "collapsed": false
   },
   "outputs": [],
   "source": [
    "from pandas import HDFStore\n",
    "\"\"\"\n",
    "hdf = HDFStore('bedData.h5')\n",
    "df = DataFrame(np.random.rand(5,3), columns=('A','B','C'))\n",
    "# put the dataset in the storage\n",
    "hdf.put('d1', df, format='table', data_columns=True)\n",
    "hdf.append('d1', DataFrame(np.random.rand(5,3), \n",
    "           columns=('A','B','C')), \n",
    "           format='table', data_columns=True)\n",
    "hdf.close() # closes the file\n",
    "\n",
    "hdf = read_hdf('storage.h5', 'd1',\n",
    "               where=['A>.5'], columns=['A','B'])\n",
    "\"\"\"               "
   ]
  }
 ],
 "metadata": {
  "kernelspec": {
   "display_name": "Python 3",
   "language": "python",
   "name": "python3"
  },
  "language_info": {
   "codemirror_mode": {
    "name": "ipython",
    "version": 3
   },
   "file_extension": ".py",
   "mimetype": "text/x-python",
   "name": "python",
   "nbconvert_exporter": "python",
   "pygments_lexer": "ipython3",
   "version": "3.4.4"
  }
 },
 "nbformat": 4,
 "nbformat_minor": 0
}
