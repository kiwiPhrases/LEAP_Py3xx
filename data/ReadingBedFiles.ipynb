{
 "cells": [
  {
   "cell_type": "code",
   "execution_count": 2,
   "metadata": {
    "collapsed": false
   },
   "outputs": [
    {
     "name": "stdout",
     "output_type": "stream",
     "text": [
      "Collecting plinkio\n",
      "  Downloading plinkio-0.9.6.tar.gz\n",
      "Building wheels for collected packages: plinkio\n",
      "  Running setup.py bdist_wheel for plinkio ... \u001b[?25l-\b \b\\\b \b|\b \b/\b \b-\b \b\\\b \b|\b \b/\b \b-\b \b\\\b \b|\b \b/\b \bdone\n",
      "\u001b[?25h  Stored in directory: /home/jovyan/.cache/pip/wheels/20/4a/87/6be9800dd9aa888c5184feda2f375e9e95fc2a856f447f9e93\n",
      "Successfully built plinkio\n",
      "Installing collected packages: plinkio\n",
      "Successfully installed plinkio-0.9.6\n"
     ]
    }
   ],
   "source": [
    "!pip install plinkio\n",
    "import os\n",
    "import re\n",
    "import numpy as np\n",
    "import pandas as pd\n",
    "from plinkio import plinkfile"
   ]
  },
  {
   "cell_type": "code",
   "execution_count": 5,
   "metadata": {
    "collapsed": false
   },
   "outputs": [
    {
     "data": {
      "text/plain": [
       "'/home/jovyan/work/STA-663-Final-Project/data'"
      ]
     },
     "execution_count": 5,
     "metadata": {},
     "output_type": "execute_result"
    }
   ],
   "source": [
    "os.chdir('/home/jovyan/work/STA-663-Final-Project/data')\n",
    "plink_file = plinkfile.open('./bfile_test'  )"
   ]
  },
  {
   "cell_type": "code",
   "execution_count": 12,
   "metadata": {
    "collapsed": false
   },
   "outputs": [
    {
     "name": "stdout",
     "output_type": "stream",
     "text": [
      "Length of sample list: 2000\n",
      "Length of locus list: 5500\n"
     ]
    }
   ],
   "source": [
    "sample_list = plink_file.get_samples( )\n",
    "locus_list = plink_file.get_loci( )\n",
    "\n",
    "#https://github.com/mfranberg/libplinkio - documentation for libplinkio\n",
    "\"\"\"\n",
    "for locus, row in zip( locus_list, plink_file ):\n",
    "    for sample, genotype in zip( sample_list, row ):\n",
    "        print( \"Individual {0} has genotype {1} for snp {2}.\".format( sample.iid, genotype, locus.name ) )\n",
    "\"\"\"\n",
    "print(\"Length of sample list: %d\\nLength of locus list: %d\" %(len(sample_list),len(locus_list)))"
   ]
  },
  {
   "cell_type": "code",
   "execution_count": 20,
   "metadata": {
    "collapsed": false
   },
   "outputs": [],
   "source": [
    "locus = locus_list[5499]"
   ]
  },
  {
   "cell_type": "code",
   "execution_count": 25,
   "metadata": {
    "collapsed": false
   },
   "outputs": [
    {
     "data": {
      "text/plain": [
       "'1'"
      ]
     },
     "execution_count": 25,
     "metadata": {},
     "output_type": "execute_result"
    }
   ],
   "source": []
  },
  {
   "cell_type": "code",
   "execution_count": null,
   "metadata": {
    "collapsed": true
   },
   "outputs": [],
   "source": []
  }
 ],
 "metadata": {
  "kernelspec": {
   "display_name": "Python 3",
   "language": "python",
   "name": "python3"
  },
  "language_info": {
   "codemirror_mode": {
    "name": "ipython",
    "version": 3
   },
   "file_extension": ".py",
   "mimetype": "text/x-python",
   "name": "python",
   "nbconvert_exporter": "python",
   "pygments_lexer": "ipython3",
   "version": "3.4.4"
  }
 },
 "nbformat": 4,
 "nbformat_minor": 0
}
