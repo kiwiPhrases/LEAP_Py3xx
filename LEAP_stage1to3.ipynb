{
 "cells": [
  {
   "cell_type": "code",
   "execution_count": 1,
   "metadata": {
    "collapsed": false
   },
   "outputs": [
    {
     "name": "stdout",
     "output_type": "stream",
     "text": [
      "Collecting plinkio\n",
      "  Downloading plinkio-0.9.6.tar.gz\n",
      "Building wheels for collected packages: plinkio\n",
      "  Running setup.py bdist_wheel for plinkio ... \u001b[?25l-\b \b\\\b \b|\b \b/\b \b-\b \b\\\b \b|\b \b/\b \b-\b \b\\\b \bdone\n",
      "\u001b[?25h  Stored in directory: /home/jovyan/.cache/pip/wheels/6f/e2/58/0f2d910f7aa9154227bf313074794f255534879d9f0b66e863\n",
      "Successfully built plinkio\n",
      "Installing collected packages: plinkio\n",
      "Successfully installed plinkio-0.9.6\n"
     ]
    }
   ],
   "source": [
    "!pip install plinkio\n",
    "##Load data:\n",
    "import os\n",
    "import re\n",
    "import numpy as np\n",
    "import pandas as pd\n",
    "from plinkio import plinkfile\n",
    "import time\n",
    "#from scipy.linalg.blas import dsyrk \n",
    "    #--can't find a way to get this working. Perhaps blas routines are missing.\n",
    "    \n",
    "data_path = '/home/jovyan/work/LEAP/leap/regression/dataset1'\n",
    "os.chdir(data_path)    "
   ]
  },
  {
   "cell_type": "code",
   "execution_count": 3,
   "metadata": {
    "collapsed": false
   },
   "outputs": [
    {
     "data": {
      "text/plain": [
       "'\\nauthor: gene burinskiy\\n\\nGoal: \\nFinding a set of individuals who are related to other individuals in the study. \\nLEAP employs a greedy algorithm to find a small subset of such individuals, \\nsuch that after their exclusion, there are no related individuals in the study. \\nThese individuals are excluded from the analysis in stages 3 and 4 below, \\nbut after fitting a model in stage 4, their liabilities are estimated along with \\nother indviduals. All individuals are considered in the GWAS stage (stage 5).\\n\\nsource: \\nhttps://github.com/omerwe/LEAP/blob/master/leap/regression/Leap_example.ipynb\\n'"
      ]
     },
     "execution_count": 3,
     "metadata": {},
     "output_type": "execute_result"
    }
   ],
   "source": [
    "\"\"\"\n",
    "author: gene burinskiy\n",
    "\n",
    "Goal: \n",
    "Finding a set of individuals who are related to other individuals in the study. \n",
    "LEAP employs a greedy algorithm to find a small subset of such individuals, \n",
    "such that after their exclusion, there are no related individuals in the study. \n",
    "These individuals are excluded from the analysis in stages 3 and 4 below, \n",
    "but after fitting a model in stage 4, their liabilities are estimated along with \n",
    "other indviduals. All individuals are considered in the GWAS stage (stage 5).\n",
    "\n",
    "source: \n",
    "https://github.com/omerwe/LEAP/blob/master/leap/regression/Leap_example.ipynb\n",
    "\"\"\""
   ]
  },
  {
   "cell_type": "code",
   "execution_count": 2,
   "metadata": {
    "collapsed": false
   },
   "outputs": [
    {
     "name": "stdout",
     "output_type": "stream",
     "text": [
      "Length of locuses 10499\n",
      "# of chromosomes in data: [ 1  2  3  4  5  6  7  8  9 10]\n",
      "Number of individuals in data: 1000\n"
     ]
    }
   ],
   "source": [
    "##Load data:\n",
    "bed = plinkfile.open(\"dataset1\")\n",
    "\n",
    "loci = bed.get_loci()\n",
    "print(\"Length of locuses\", len(loci))\n",
    "chromosomes = np.unique([x.chromosome for x in loci])\n",
    "print(\"# of chromosomes in data:\",chromosomes)\n",
    "\n",
    "samples = bed.get_samples()\n",
    "print(\"Number of individuals in data:\", len(samples))"
   ]
  },
  {
   "cell_type": "code",
   "execution_count": 3,
   "metadata": {
    "collapsed": false
   },
   "outputs": [
    {
     "name": "stdout",
     "output_type": "stream",
     "text": [
      "Data type: int16\n",
      "Size of bed matrix:   20mb\n",
      "\n",
      "<class 'pandas.core.frame.DataFrame'>\n",
      "Index: 1000 entries, person1 to person1000\n",
      "Columns: 10499 entries, (1, csnp18) to (10, snp10483)\n",
      "dtypes: int16(10499)\n",
      "memory usage: 20.0+ MB\n"
     ]
    },
    {
     "data": {
      "text/html": [
       "<div>\n",
       "<table border=\"1\" class=\"dataframe\">\n",
       "  <thead>\n",
       "    <tr>\n",
       "      <th>chromosome</th>\n",
       "      <th colspan=\"5\" halign=\"left\">1</th>\n",
       "    </tr>\n",
       "    <tr>\n",
       "      <th>snp</th>\n",
       "      <th>csnp18</th>\n",
       "      <th>csnp35</th>\n",
       "      <th>csnp59</th>\n",
       "      <th>csnp78</th>\n",
       "      <th>csnp85</th>\n",
       "    </tr>\n",
       "  </thead>\n",
       "  <tbody>\n",
       "    <tr>\n",
       "      <th>person1</th>\n",
       "      <td>2</td>\n",
       "      <td>1</td>\n",
       "      <td>1</td>\n",
       "      <td>2</td>\n",
       "      <td>1</td>\n",
       "    </tr>\n",
       "    <tr>\n",
       "      <th>person2</th>\n",
       "      <td>1</td>\n",
       "      <td>0</td>\n",
       "      <td>2</td>\n",
       "      <td>2</td>\n",
       "      <td>2</td>\n",
       "    </tr>\n",
       "    <tr>\n",
       "      <th>person3</th>\n",
       "      <td>0</td>\n",
       "      <td>2</td>\n",
       "      <td>2</td>\n",
       "      <td>2</td>\n",
       "      <td>2</td>\n",
       "    </tr>\n",
       "    <tr>\n",
       "      <th>person4</th>\n",
       "      <td>2</td>\n",
       "      <td>1</td>\n",
       "      <td>2</td>\n",
       "      <td>2</td>\n",
       "      <td>1</td>\n",
       "    </tr>\n",
       "    <tr>\n",
       "      <th>person5</th>\n",
       "      <td>0</td>\n",
       "      <td>1</td>\n",
       "      <td>2</td>\n",
       "      <td>1</td>\n",
       "      <td>2</td>\n",
       "    </tr>\n",
       "  </tbody>\n",
       "</table>\n",
       "</div>"
      ],
      "text/plain": [
       "chromosome      1                            \n",
       "snp        csnp18 csnp35 csnp59 csnp78 csnp85\n",
       "person1         2      1      1      2      1\n",
       "person2         1      0      2      2      2\n",
       "person3         0      2      2      2      2\n",
       "person4         2      1      2      2      1\n",
       "person5         0      1      2      1      2"
      ]
     },
     "execution_count": 3,
     "metadata": {},
     "output_type": "execute_result"
    }
   ],
   "source": [
    "##Place data into a dataframe:\n",
    "mat = np.zeros((len(loci),len(samples)), dtype='int16') #1/4 of the taken up space by using int16\n",
    "\n",
    "##don't know a faster method of extracting the data from the bed file.\n",
    "i=0\n",
    "for row in bed:\n",
    "    mat[i,:] = np.array([snp for snp in row])\n",
    "    i+=1\n",
    "    \n",
    "#this matrix is equivalent to transposed bed.val\n",
    "print(\"Data type:\", mat.dtype)\n",
    "print(\"Size of bed matrix: %4.0fmb\\n\" %(mat.nbytes/(1024**2)))\n",
    "\n",
    "#create a multi-indexed column space\n",
    "tuples = [(x.chromosome,x.name) for x in loci]\n",
    "ml_index = pd.MultiIndex.from_tuples(tuples, names = ['chromosome', 'snp'])\n",
    "\n",
    "df = pd.DataFrame(mat.transpose(), columns=ml_index, index = [x.iid for x in bed.get_samples()]) \n",
    "df.info()\n",
    "df.iloc[:5,:5]"
   ]
  },
  {
   "cell_type": "code",
   "execution_count": 4,
   "metadata": {
    "collapsed": false
   },
   "outputs": [
    {
     "name": "stdout",
     "output_type": "stream",
     "text": [
      "<class 'pandas.core.frame.DataFrame'>\n",
      "Index: 1000 entries, person1 to person1000\n",
      "Columns: 10499 entries, (1, csnp18) to (10, snp10483)\n",
      "dtypes: float32(10499)\n",
      "memory usage: 40.1+ MB\n",
      "\n",
      "Covariance shape: (1000, 1000)\n",
      "Covariance memory usage in mb: 3.814697265625\n"
     ]
    },
    {
     "data": {
      "text/plain": [
       "array([[ 0.36813205,  0.00128837, -0.00865506, -0.00119463,  0.00389233],\n",
       "       [ 0.00128837,  0.35822785,  0.00339447,  0.00228265,  0.00136904],\n",
       "       [-0.00865506,  0.00339447,  0.36281952,  0.00443562, -0.00057362],\n",
       "       [-0.00119463,  0.00228265,  0.00443562,  0.3630724 ,  0.00183871],\n",
       "       [ 0.00389233,  0.00136904, -0.00057362,  0.00183871,  0.37096033]], dtype=float32)"
      ]
     },
     "execution_count": 4,
     "metadata": {},
     "output_type": "execute_result"
    }
   ],
   "source": [
    "##compute covariance matrix between individuals, remove those who are too close to each other.\n",
    "#they LEAP code uses dsyrk which halves the computational time. Alas, we can't use it y\n",
    "\n",
    "df = df.astype('float32')-df.astype('float32').mean() \n",
    "df.info() #roughly doubled memory usage though still not the 80mb it was earlier\n",
    "\n",
    "cov = np.dot(df, df.transpose())/df.shape[1] #having difficulties with scipy's linalg module\n",
    "#note that the above takes more than half the time of np.cov\n",
    "print(\"\\nCovariance shape:\" , cov.shape)\n",
    "print(\"Covariance memory usage in mb:\", cov.nbytes/(1024**2))\n",
    "cov[:5,:5]"
   ]
  },
  {
   "cell_type": "code",
   "execution_count": 6,
   "metadata": {
    "collapsed": false
   },
   "outputs": [
    {
     "name": "stdout",
     "output_type": "stream",
     "text": [
      "shape of y: (56,)\n",
      "\n",
      "removing 56 individuals\n"
     ]
    },
    {
     "data": {
      "text/plain": [
       "(953,)"
      ]
     },
     "execution_count": 6,
     "metadata": {},
     "output_type": "execute_result"
    }
   ],
   "source": [
    "cutoff = .05\n",
    "bool_arr =  np.tril(cov, k=-1)>cutoff\n",
    "y_idx,_ = np.where(bool_arr)\n",
    "print(\"shape of y:\", y_idx.shape)\n",
    "print(\"\\nremoving %d individuals\" %y_idx.shape[0])\n",
    "\n",
    "#note, they marked 54 so we marked more peeps, we effectively remove 47. Something doesn't line up.\n",
    "indxToKeep = set(range(cov.shape[0]))\n",
    "[indxToKeep.remove(i) for i in np.unique(y_idx)]\n",
    "keepArr = np.array(list(indxToKeep))\n",
    "keepArr.shape"
   ]
  },
  {
   "cell_type": "code",
   "execution_count": 9,
   "metadata": {
    "collapsed": false
   },
   "outputs": [
    {
     "name": "stdout",
     "output_type": "stream",
     "text": [
      "22.203\n",
      "22.2029\n"
     ]
    }
   ],
   "source": [
    "#exploring different ways to exclude individuals found above.\n",
    "cov_m = np.ma.array(cov,mask=False)\n",
    "cov_m.mask[y_idx,:] = True\n",
    "cov_m.mask[:,y_idx] = True\n",
    "\n",
    "print(cov_m.sum())\n",
    "\n",
    "cov_c = np.delete(np.delete(cov, y_idx, axis=0), y_idx, axis=1)\n",
    "print(cov_c.sum())"
   ]
  },
  {
   "cell_type": "code",
   "execution_count": 60,
   "metadata": {
    "collapsed": false
   },
   "outputs": [
    {
     "data": {
      "text/plain": [
       "(933, 934)"
      ]
     },
     "execution_count": 60,
     "metadata": {},
     "output_type": "execute_result"
    }
   ],
   "source": [
    "#trying to match the authors' results but uh, to no avail.\n",
    "corr = np.corrcoef(df)\n",
    "bool_arr =  np.tril(corr, k=-1)>cutoff\n",
    "y_idx,x_idx = np.where(bool_arr)\n",
    "\n",
    "corr_c = np.delete(np.delete(corr, y_idx, axis=0), x_idx, axis=1)\n",
    "corr_c.shape"
   ]
  },
  {
   "cell_type": "code",
   "execution_count": 10,
   "metadata": {
    "collapsed": false
   },
   "outputs": [
    {
     "data": {
      "text/html": [
       "<div>\n",
       "<table border=\"1\" class=\"dataframe\">\n",
       "  <thead>\n",
       "    <tr style=\"text-align: right;\">\n",
       "      <th></th>\n",
       "      <th>fam</th>\n",
       "      <th>pheno</th>\n",
       "    </tr>\n",
       "    <tr>\n",
       "      <th>person</th>\n",
       "      <th></th>\n",
       "      <th></th>\n",
       "    </tr>\n",
       "  </thead>\n",
       "  <tbody>\n",
       "    <tr>\n",
       "      <th>person1</th>\n",
       "      <td>FAM1</td>\n",
       "      <td>0</td>\n",
       "    </tr>\n",
       "    <tr>\n",
       "      <th>person2</th>\n",
       "      <td>FAM1</td>\n",
       "      <td>0</td>\n",
       "    </tr>\n",
       "    <tr>\n",
       "      <th>person3</th>\n",
       "      <td>FAM1</td>\n",
       "      <td>0</td>\n",
       "    </tr>\n",
       "    <tr>\n",
       "      <th>person4</th>\n",
       "      <td>FAM1</td>\n",
       "      <td>0</td>\n",
       "    </tr>\n",
       "    <tr>\n",
       "      <th>person5</th>\n",
       "      <td>FAM1</td>\n",
       "      <td>0</td>\n",
       "    </tr>\n",
       "  </tbody>\n",
       "</table>\n",
       "</div>"
      ],
      "text/plain": [
       "          fam  pheno\n",
       "person              \n",
       "person1  FAM1      0\n",
       "person2  FAM1      0\n",
       "person3  FAM1      0\n",
       "person4  FAM1      0\n",
       "person5  FAM1      0"
      ]
     },
     "execution_count": 10,
     "metadata": {},
     "output_type": "execute_result"
    }
   ],
   "source": [
    "##Our calc_h2 function for Step 3\n",
    "#uses the calc_h2.calc_h2 functions\n",
    "from sklearn.linear_model import LogisticRegression\n",
    "from scipy import stats\n",
    "\n",
    "#read in phenofile:\n",
    "phenos = pd.read_csv(\"dataset1.phe\", sep=' ', header=None, engine='c')\n",
    "phenos.columns = ['fam', 'person', 'pheno']\n",
    "phenos.set_index(keys = 'person', inplace=True)\n",
    "phenos.iloc[:5,:5]"
   ]
  },
  {
   "cell_type": "code",
   "execution_count": 18,
   "metadata": {
    "collapsed": true
   },
   "outputs": [],
   "source": [
    "def calcLiabThresholds_3xx(U,s, keepArr, phe, numRemovePCs=10, prevalence = .001, covar=None): \n",
    "    \"\"\"\n",
    "    INPUTS:\n",
    "        1. U - left eigenvectors of covariance matrix (ie kinship matrix)\n",
    "        2. S - eigenvalues of covariance matrix (ie kinship matrix)\n",
    "        3. keepArr - np.array of indexes that exclude highly related individuals\n",
    "        4. phe - np.array of phenotypes (binary only)\n",
    "        5. covar - god knows. specified in author functions but remains undefined. \n",
    "    OUTPUT:\n",
    "        1. probs - probability estimates from a regularized logistic regression\n",
    "        2. threshold - no idea what this is, I assume they're estimated liabilities?\n",
    "    NOTES:\n",
    "        original code can be found on:\n",
    "        https://github.com/omerwe/LEAP/blob/master/leap/calc_h2.py\n",
    "    \"\"\"\n",
    "    #another part of the calc_h2 function\n",
    "    prev=prevalence\n",
    "\n",
    "    numRemovePCs=10 #their default value; as far as I'm aware, they do not input different values\n",
    "\n",
    "    if numRemovePCs>0:\n",
    "        t_cov = cov -  (U[:,-numRemovePCs:]*s[-numRemovePCs:]).dot(U[:,-numRemovePCs:].transpose())\n",
    "\n",
    "    pheUnique = np.unique(phe)\n",
    "    isCaseControl = pheUnique.shape[0] == 2 #trivial condition for us\n",
    "\n",
    "    if ~np.all(pheUnique == np.array([0,1])):\n",
    "        pheMean = phe.mean()\n",
    "        phe[phe <= pheMean] = 0\n",
    "        phe[phe> pheMean] = 1\n",
    "\n",
    "    #probs, thresholds = calcLiabThreholds(U, S, keepArr, phe, numRemovePCs, prevalence, covar) \n",
    "\n",
    "    #This is equivalent to an SVD decomposition; note their covar parameter is defaulted to None\n",
    "    G = U[:, -numRemovePCs:] * np.sqrt(s[-numRemovePCs:])\n",
    "\n",
    "    #perform a regularized logistic regression. I trust their parameter settings.\n",
    "    Logreg = LogisticRegression(penalty='l2', C=500000, fit_intercept=True)\n",
    "    Logreg.fit(G[keepArr, :], phe.iloc[keepArr])\n",
    "\n",
    "    #Compute individual thresholds\n",
    "    probs = Logreg.predict_proba(G)[:,1]\n",
    "\n",
    "    #Compute thresholds\n",
    "    P = np.sum(phe==1) / float(phe.shape[0])\n",
    "    #K = prev --why, why in the (insert explicative) hell do they do this?\n",
    "    Ki = prev*(1-prev) / (P*(1-prev)) * probs / (1 + prev*(1-prev) / (P*(1-prev))*probs - probs)\n",
    "    thresholds = stats.norm(0,1).isf(Ki)\n",
    "    thresholds[Ki>=1.] = -999999999\n",
    "    thresholds[Ki<=0.] = 999999999\n",
    "    \n",
    "    return([probs, thresholds])"
   ]
  },
  {
   "cell_type": "code",
   "execution_count": 25,
   "metadata": {
    "collapsed": true
   },
   "outputs": [],
   "source": [
    "def calcH2Binary(XXT_o, phe_o, probs_o, thresholds_o, keepArr_o, prev, h2coeff):\n",
    "    \"\"\"\n",
    "    INPUT:\n",
    "        1. XXT - covariance matrix (kinship matrix)\n",
    "        2. phe - np.array of phenotypes. In our case, they're binary.\n",
    "        3. probs - np.array of probabilities\n",
    "        4. thresholds - np.array of something (I believe they're estimated liabilities)\n",
    "        5. keepArr - np.array of indexes that exclude highly related individuals.\n",
    "        6. prev - prevalence\n",
    "        7. h2coeff - no idea. they set it to 1.0\n",
    "    NOTES:\n",
    "        Many items have been removed for sake of more compact code. Namely, the actions if\n",
    "        thresholds is None. \n",
    "        Original code can be found on:\n",
    "        https://github.com/omerwe/LEAP/blob/master/leap/calc_h2.py\n",
    "    \"\"\"\n",
    "    K = prev\n",
    "    P = np.sum(phe_o>0) / float(phe_o.shape[0])\n",
    "    \n",
    "    #index out individuals we do not want. In order to avoid reassining variables,\n",
    "    #I assign the input objects to new objects which are views.\n",
    "    XXT = XXT_o[np.ix_(keepArr, keepArr)]\n",
    "    phe = phe_o[keepArr]\n",
    "\n",
    "    probs = probs_o[keepArr]\n",
    "    thresholds = thresholds_o[keepArr]\n",
    "    \n",
    "    Ki = K*(1-P) / (P*(1-K)) * probs / (1 + K*(1-P) / (P*(1-K))*probs - probs)\n",
    "    phit = stats.norm(0,1).pdf(thresholds)\n",
    "    probsInvOuter = np.outer(probs*(1-probs), probs*(1-probs))\n",
    "    y = np.outer(phe-probs, phe-probs) / np.sqrt(probsInvOuter)\t\n",
    "    sumProbs = np.tile(np.column_stack(probs).T, (1,probs.shape[0])) + np.tile(probs, (probs.shape[0], 1))\n",
    "    Atag0 = np.outer(phit, phit) * (1 - (sumProbs)*(P-K)/(P*(1-K)) + np.outer(probs, probs)*(((P-K)/(P*(1-K)))**2)) / np.sqrt(probsInvOuter)\n",
    "    B0 = np.outer(Ki + (1-Ki)*(K*(1-P))/(P*(1-K)), Ki + (1-Ki)*(K*(1-P))/(P*(1-K)))\n",
    "    x = (Atag0 / B0 * h2coeff) * XXT\n",
    "\n",
    "    y = y[np.triu_indices(y.shape[0], 1)]\n",
    "    x = x[np.triu_indices(x.shape[0], 1)]\n",
    "\n",
    "    slope, intercept, rValue, pValue, stdErr = stats.linregress(x,y)\n",
    "    \n",
    "    return slope"
   ]
  },
  {
   "cell_type": "code",
   "execution_count": null,
   "metadata": {
    "collapsed": true
   },
   "outputs": [],
   "source": [
    "import numpy as np\n",
    "import sklearn.linear_model\n",
    "import scipy.optimize as opt\n",
    "\n",
    "def evalProbitReg(beta, X, cases, controls, thresholds, invRegParam, normPDF, h2):\n",
    "    \"\"\"\n",
    "    NOTES: not much to do here as everything is in numpy. \n",
    "    \"\"\"\n",
    "    XBeta = np.ravel(X.dot(beta)) - thresholds\n",
    "    phiXBeta = normPDF.pdf(XBeta)\n",
    "    PhiXBeta = normPDF.cdf(XBeta)\n",
    "\n",
    "    logLik = np.sum(np.log(PhiXBeta[cases])) + np.sum(np.log(1-PhiXBeta[controls]))\t\n",
    "    w = np.zeros(X.shape[0])\n",
    "    w[cases] = -phiXBeta[cases] / PhiXBeta[cases]\n",
    "    w[controls] = phiXBeta[controls] / (1-PhiXBeta[controls])\n",
    "    grad = X.T.dot(w)\n",
    "\n",
    "    #regularize\n",
    "    logLik -= 0.5*invRegParam * beta.dot(beta)\t#regularization\t\n",
    "    grad += invRegParam * beta\n",
    "    return [-logLik, grad]\n",
    "\n",
    "def probitRegHessian(beta, X, cases, controls, thresholds, invRegParam, normPDF, h2):\n",
    "    \"\"\"\n",
    "    NOTES: not much to do here as everything is in numpy. Though, I precalculated\n",
    "    PhiXBeta and then subset that because it was originally done for each subset. It is, trivially,\n",
    "    faster to precompute the element-wise squaring and then subset. \n",
    "    \"\"\"\n",
    "    XBeta = np.ravel(X.dot(beta)) - thresholds\n",
    "    phiXBeta = normPDF.pdf(XBeta)\n",
    "    PhiXBeta = normPDF.cdf(XBeta)\n",
    "\n",
    "    XbetaScaled = XBeta #/(1-h2)\n",
    "\n",
    "    PhiXBeta2 = np.square(PhiXBeta)\n",
    "    R = np.zeros(X.shape[0])\n",
    "    R[cases] = (XbetaScaled[cases]*PhiXBeta[cases] + phiXBeta[cases]) / PhiXBeta2[cases]\n",
    "    R[controls] = (-XbetaScaled[controls]*(1-PhiXBeta[controls]) + phiXBeta[controls]) / (1 - PhiXBeta2[controls])\n",
    "\n",
    "    R *= phiXBeta\n",
    "    H = (X.T * R).dot(X)\n",
    "    H += invRegParam\n",
    "    return H\n",
    "\n",
    "\n",
    "def probitRegression(X, y, thresholds, numSNPs, numFixedFeatures, h2, useHess, maxFixedIters, epsilon, nofail):\n",
    "    \"\"\"\n",
    "    If I had more time, I would probably use PyMC3 for this ... eventually. For now, just removed superfluous\n",
    "    parts. Can also cythonize the loop in \"Fit fixed effects\" -- for later. \n",
    "    \"\"\"\n",
    "    regParam = h2 /  float(numSNPs)\t\n",
    "    Linreg = sklearn.linear_model.Ridge(alpha=1.0/(2*regParam), fit_intercept=False, normalize=False, solver='lsqr')\n",
    "    Linreg.fit(X, y)\n",
    "    initBeta = Linreg.coef_\n",
    "    np.random.seed(1234)\n",
    "\n",
    "    normPDF = stats.norm(0, np.sqrt(1-h2))\n",
    "    invRegParam = 1.0/regParam\t\t\n",
    "    controls = (y==0)\n",
    "    cases = (y==1)\n",
    "    funcToSolve = evalProbitReg\n",
    "    hess =(probitRegHessian if useHess else None)\n",
    "    jac= True\n",
    "    method = 'Newton-CG'\n",
    "    args = (X, cases, controls, thresholds, invRegParam, normPDF, h2)\n",
    "    print 'Beginning Probit regression...'\n",
    "    t0 = time.time()\n",
    "    optObj = opt.minimize(funcToSolve, x0=initBeta, args=args, jac=jac, method=method, hess=hess)\n",
    "    print 'Done in', '%0.2f'%(time.time()-t0), 'seconds'\t\n",
    "    if (not optObj.success):\n",
    "        print 'Optimization status:', optObj.status\n",
    "        print optObj.message\n",
    "        if (nofail == 0): raise Exception('Probit regression failed with message: ' + optObj.message)\n",
    "    beta = optObj.x\n",
    "\n",
    "    #Fit fixed effects\n",
    "    if (numFixedFeatures > 0):\n",
    "        thresholdsEM = np.zeros(X.shape[0]) + thresholds\n",
    "\n",
    "        for i in xrange(maxFixedIters):\n",
    "            print 'Beginning fixed effects iteration', i+1\n",
    "            t0 = time.time()\n",
    "            prevBeta = beta.copy()\n",
    "\n",
    "            #Learn fixed effects\t\t\t\n",
    "            thresholdsTemp = thresholdsEM - X[:, numFixedFeatures:].dot(beta[numFixedFeatures:])\t\t\t\t\t\t\n",
    "            args = (X[:, :numFixedFeatures], cases, controls, thresholdsTemp, 0, normPDF, h2)\n",
    "\n",
    "            optObj = opt.minimize(funcToSolve, x0=beta[:numFixedFeatures], args=args, jac=True, method=method, hess=hess)\n",
    "            if (not optObj.success): print optObj.message; #raise Exception('Learning failed with message: ' + optObj.message)\n",
    "            beta[:numFixedFeatures] = optObj.x\n",
    "\n",
    "            #Learn random effects\n",
    "            thresholdsTemp = thresholdsEM - X[:, :numFixedFeatures].dot(beta[:numFixedFeatures])\t\t\t\n",
    "            args = (X[:, numFixedFeatures:], cases, controls, thresholdsTemp, invRegParam, normPDF, h2)\n",
    "            optObj = opt.minimize(funcToSolve, x0=beta[numFixedFeatures:], args=args, jac=True, method=method, hess=hess)\n",
    "            if (not optObj.success): print optObj.message; #raise Exception('Learning failed with message: ' + optObj.message)\t\t\t\t\n",
    "            beta[numFixedFeatures:] = optObj.x\n",
    "\n",
    "            diff = np.sqrt(np.mean(beta[:numFixedFeatures]**2 - prevBeta[:numFixedFeatures]**2))\n",
    "            print 'Done in', '%0.2f'%(time.time()-t0), 'seconds'\n",
    "            print 'Diff:', '%0.4e'%diff\n",
    "            if (diff < epsilon): break\n",
    "    return beta\n",
    "\t\n",
    "\n",
    "\n",
    "def probit(bed, pheno, h2, prev, eigen, outFile, keepArr, thresholds,covar=None,  nofail=0,\n",
    "    numSkipTopPCs=10, mineig1e-3, hess=1, recenter=1, maxFixedIters=100, epsilon=1e-3, treatFixedAsRandom=False):\n",
    "    \"\"\"\n",
    "    No longer read in the bed file. \n",
    "    Default parameters set from the argparse section in the original code. Original code can be found\n",
    "    in:\n",
    "    https://github.com/omerwe/LEAP/blob/master/leap/probit.py\n",
    "    \"\"\"\n",
    "\t#Extract phenotype\n",
    "\tif isinstance(pheno, dict):\tphe = pheno['vals']\n",
    "\telse: phe = pheno\t\t\n",
    "\tif (len(phe.shape)==2):\n",
    "\t\tif (phe.shape[1]==1): phe=phe[:,0]\n",
    "\t\telse: raise Exception('More than one phenotype found')\t\t\n",
    "\tif (keepArr is None): keepArr = np.ones(phe.shape[0], dtype=np.bool)\t\t\t\t\n",
    "\t\t\t\t\n",
    "\tS = eigen['arr_1'] * bed.sid.shape[0]\n",
    "\tU = eigen['arr_0']\n",
    "\tS = np.sqrt(S)\n",
    "\tgoodS = (S>mineig)\n",
    "\tif (numSkipTopPCs > 0): goodS[-numSkipTopPCs:] = False\n",
    "\tif (np.sum(~goodS) > 0): print 'Removing', np.sum(~goodS), 'PCs with low variance'\t\n",
    "\tG = U[:, goodS]*S[goodS]\n",
    "\t\n",
    "\t#Set binary vector\n",
    "\tpheUnique = np.unique(phe)\n",
    "\tif (pheUnique.shape[0] != 2): raise Exception('phenotype file has more than two values')\n",
    "\tpheMean = phe.mean()\n",
    "\tcases = (phe>pheMean)\n",
    "\tphe[~cases] = 0\n",
    "\tphe[cases] = 1\n",
    "\n",
    "\t#run probit regression\n",
    "\tt = stats.norm(0,1).isf(prev)\n",
    "\tif (thresholds is not None): t = thresholds\n",
    "\n",
    "\t#Recenter G\tto only consider the unrelated individuals\n",
    "\tif recenter: G -= np.mean(G[keepArr, :], axis=0)\n",
    "\telse: G -= np.mean(G, axis=0)\n",
    "\t\n",
    "\tnumFixedFeatures = 0\n",
    "\tif (covar is not None):\n",
    "\t\tcovar -= covar.mean()\n",
    "\t\tcovar /= covar.std()\n",
    "\t\tcovar *= np.mean(np.std(G, axis=0))\n",
    "\t\tG = np.concatenate((covar, G), axis=1)\n",
    "\t\tif (not treatFixedAsRandom): numFixedFeatures += covar.shape[1]\n",
    "\n",
    "\t#Run Probit regression\n",
    "\tprobitThresh = (t if thresholds is None else t[keepArr])\n",
    "\tbeta = probitRegression(G[keepArr, :], phe[keepArr], probitThresh, bed.sid.shape[0], numFixedFeatures, h2, hess, maxFixedIters, epsilon, nofail)\n",
    "\n",
    "\t#Predict liabilities for all individuals\n",
    "\tmeanLiab = G.dot(beta)\t\t\n",
    "\tliab = meanLiab.copy()\n",
    "\tindsToFlip = ((liab <= t) & (phe>0.5)) | ((liab > t) & (phe<0.5))\n",
    "\tliab[indsToFlip] = stats.norm(0,1).isf(prev)\n",
    "\t\n",
    "\tif (outFile is not None):\n",
    "\t\t#save liabilities\n",
    "\t\tf = open(outFile+'.liabs', 'w')\n",
    "\t\tfor ind_i,[fid,iid] in enumerate(bed.iid): f.write(' '.join([fid, iid, '%0.3f'%liab[ind_i]]) + '\\n')\t\t\n",
    "\t\tf.close()\n",
    "\n",
    "\t\t#save liabilities after regressing out the fixed effects\n",
    "\t\tif (numFixedFeatures > 0):\n",
    "\t\t\tliab_nofixed = liab - G[:, :numFixedFeatures].dot(beta[:numFixedFeatures])\n",
    "\t\t\tf = open(outFile+'.liab_nofixed', 'w')\n",
    "\t\t\tfor ind_i,[fid,iid] in enumerate(bed.iid): f.write(' '.join([fid, iid, '%0.3f'%liab_nofixed[ind_i]]) + '\\n')\t\t\n",
    "\t\t\tf.close()\n",
    "\t\t\t\n",
    "\t\t\tliab_nofixed2 = meanLiab - G[:, :numFixedFeatures].dot(beta[:numFixedFeatures])\n",
    "\t\t\tindsToFlip = ((liab_nofixed2 <= t) & (phe>0.5)) | ((liab_nofixed2 > t) & (phe<0.5))\n",
    "\t\t\tliab_nofixed2[indsToFlip] = stats.norm(0,1).isf(prev)\n",
    "\t\t\tf = open(outFile+'.liab_nofixed2', 'w')\n",
    "\t\t\tfor ind_i,[fid,iid] in enumerate(bed.iid): f.write(' '.join([fid, iid, '%0.3f'%liab_nofixed2[ind_i]]) + '\\n')\t\t\n",
    "\t\t\tf.close()\t\n",
    "\t\t\t\n",
    "\t#Return phenotype struct with liabilities\n",
    "\tliabsStruct = {\n",
    "\t\t'header':[None],\n",
    "\t\t'vals':liab,\n",
    "\t\t'iid':bed.iid\n",
    "\t}\n",
    "\treturn liabsStruct"
   ]
  },
  {
   "cell_type": "code",
   "execution_count": null,
   "metadata": {
    "collapsed": true
   },
   "outputs": [],
   "source": []
  },
  {
   "cell_type": "code",
   "execution_count": null,
   "metadata": {
    "collapsed": true
   },
   "outputs": [],
   "source": []
  },
  {
   "cell_type": "code",
   "execution_count": null,
   "metadata": {
    "collapsed": true
   },
   "outputs": [],
   "source": []
  },
  {
   "cell_type": "code",
   "execution_count": 26,
   "metadata": {
    "collapsed": false
   },
   "outputs": [
    {
     "name": "stdout",
     "output_type": "stream",
     "text": [
      "Working on chromosome: 1\n",
      "Took 0.40 seconds\n",
      "Working on chromosome: 2\n",
      "Took 0.30 seconds\n",
      "Working on chromosome: 3\n",
      "Took 0.29 seconds\n",
      "Working on chromosome: 4\n",
      "Took 0.24 seconds\n",
      "Working on chromosome: 5\n",
      "Took 0.25 seconds\n",
      "Working on chromosome: 6\n",
      "Took 0.24 seconds\n",
      "Working on chromosome: 7\n",
      "Took 0.23 seconds\n",
      "Working on chromosome: 8\n",
      "Took 0.25 seconds\n",
      "Working on chromosome: 9\n",
      "Took 0.29 seconds\n",
      "Working on chromosome: 10\n",
      "Took 0.30 seconds\n",
      "Note that LEAP's original code runs 2-3 times slower for this step\n"
     ]
    }
   ],
   "source": [
    "#with multi-index, we index by using the number of the chromosome. \n",
    "#This avoids copying of data -> we use views on the data. Immeasurably more efficient\n",
    "for chrom in chromosomes:\n",
    "    print(\"Working on chromosome: %s\" %chrom)\n",
    "    \n",
    "    exclude_chrom = set(chromosomes)\n",
    "    exclude_chrom.remove(chrom) #set all chromosomes except current\n",
    "    exclude_chrom = list(exclude_chrom)\n",
    "    \n",
    "    t0 = time.time()\n",
    "    #Note that the original code puts cov, s, U into a dictionary called \"eigen\"\n",
    "    #They do not actually perform an SVD decomposition. Instead, they compute\n",
    "    #the covariance matrix, decompose that and use an equivalence relation between\n",
    "    #SVD and the decomposition of the covariance matrix. However, it seems that a \n",
    "    #set could be saved if they just performed the SVD decomposition, albeit at a higher computing cost\n",
    "    cov = np.dot(df[exclude_chrom], df[exclude_chrom].transpose())/df[exclude_chrom].shape[1]\n",
    "    \n",
    "    s,U = np.linalg.eigh(cov, 'L') #would use scipy except -again- can't get it to load.\n",
    "    \n",
    "    #calc_h2 function\n",
    "    probs, thresholds = calcLiabThresholds_3xx(U,s, keepArr, phenos.pheno)\n",
    "    \n",
    "    #calch2binary args: XXT, phe, probs, thresholds, keepArr, prev, h2coeff=1.0\n",
    "    h2 = calcH2Binary(cov, phenos.pheno, probs, thresholds, keepArr, prev=.001, h2coeff=1.0)\n",
    "    \n",
    "    #probit args: bedExclude, phenoFile, h2, prevalence, eigen, keepArr\n",
    "    #liabs = probit_3xx()\n",
    "    print(\"\\tTook %.2f seconds\" %(time.time()-t0))\n",
    "                                               \n",
    "print(\"Note that LEAP's original code runs 2-3 times slower for this step\")    "
   ]
  },
  {
   "cell_type": "code",
   "execution_count": 29,
   "metadata": {
    "collapsed": false
   },
   "outputs": [
    {
     "data": {
      "text/plain": [
       "array([ 2.76702087,  3.03868485,  2.63832193,  2.82720116,  3.03304915,\n",
       "        2.93307925,  2.57350663,  2.80450053,  2.78478192,  2.92604595,\n",
       "        2.87149777,  2.80057748,  2.88576937,  2.89466776,  2.74914546,\n",
       "        2.80057748,  3.18438182,  2.66042962,  2.61621186,  2.8543168 ,\n",
       "        2.92022962,  2.97562729,  3.01791766,  2.93120154,  2.89714123,\n",
       "        2.59341468,  2.70589936,  2.9400986 ,  2.77561607,  2.65956044,\n",
       "        2.97748168,  3.09248048,  2.8800913 ,  3.04966932,  3.03304915,\n",
       "        3.04091833,  2.82842738,  2.78837197,  3.01119921,  2.93685359,\n",
       "        2.88129905,  2.89033389,  2.63848834,  2.926199  ,  2.98362185,\n",
       "        2.926199  ,  2.95528932,  2.6722785 ,  2.62397266,  3.01870235,\n",
       "        2.80079699,  2.56837073,  2.92022962,  2.68816461,  2.72503664,\n",
       "        2.44858658,  2.78837197,  3.10018644,  2.98241264,  2.76825716,\n",
       "        2.86285387,  2.93714959,  2.97748168,  2.79599617,  2.70704553,\n",
       "        2.9400986 ,  2.70170795,  2.73232726,  2.95016867,  2.77899452,\n",
       "        3.13595908,  2.9227686 ,  2.64243352,  2.86285387,  2.96372782,\n",
       "        3.09007932,  2.98933548,  2.89957025,  2.64651975,  2.89971521,\n",
       "        2.7481155 ,  2.89714123,  2.94297732,  2.76866214,  2.7868994 ,\n",
       "        2.72794692,  2.69418753,  2.72087187,  2.926199  ,  2.64243352,\n",
       "        2.73288668,  3.03304915,  2.7267604 ,  2.77846387,  2.68919105,\n",
       "        2.98310123,  2.73887364,  3.05230316,  2.86283537,  2.92769509,\n",
       "        2.60416265,  2.8715963 ,  2.76067   ,  2.78580094,  2.87509764,\n",
       "        3.13581467,  2.91317067,  2.68681438,  2.86339376,  2.67250643,\n",
       "        2.98948583,  2.91001426,  2.69314078,  2.97748168,  2.67098289,\n",
       "        2.76702087,  2.98933548,  2.78119993,  2.80730219,  2.9854733 ,\n",
       "        2.67009839,  2.80094612,  2.80598224,  3.19558405,  2.86810291,\n",
       "        2.78744997,  2.82683532,  2.80985724,  2.97616629,  2.78641473,\n",
       "        2.65693312,  2.82087153,  2.75440922,  2.85865432,  2.98613505,\n",
       "        2.96936906,  2.76177652,  2.97053582,  2.87001461,  2.61459358,\n",
       "        3.07624023,  2.5637712 ,  2.77327997,  2.63314791,  2.80985724,\n",
       "        2.91263963,  2.81731517,  2.67926072,  2.93061272,  2.93685359,\n",
       "        2.78580094,  2.52405085,  2.73420908,  2.90557469,  2.90812423,\n",
       "        2.91332428,  2.61588686,  2.9751055 ,  2.95528932,  2.9177541 ,\n",
       "        2.96936906,  2.80985724,  2.754227  ,  2.83972755,  2.65130677,\n",
       "        2.77980869,  2.76757465,  2.89138356,  2.76825716,  2.64635376,\n",
       "        3.10674245,  2.54679931,  3.05595409,  2.95425845,  2.63082518,\n",
       "        2.919152  ,  3.06948218,  2.64869551,  2.83443552,  2.6293466 ,\n",
       "        2.6450722 ,  2.86489633,  2.82739952,  2.94199347,  2.98933548,\n",
       "        3.12443029,  2.50871626,  2.96211345,  2.80969901,  2.82720116,\n",
       "        2.66159204,  2.93227551,  2.94899521,  2.49245092,  2.80985724,\n",
       "        2.89193555,  2.79612473,  2.92727449,  2.58184742,  2.97748168,\n",
       "        2.98748723,  2.94316924,  3.09347259,  2.9819829 ,  2.69456782,\n",
       "        2.93822461,  2.69061419,  2.90105927,  2.80257126,  2.77561607,\n",
       "        2.79583732,  2.66991159,  2.96347191,  2.87001461,  2.70704553,\n",
       "        2.87416141,  2.89957025,  3.05048415,  2.82953332,  3.04734037,\n",
       "        3.03883316,  2.85307184,  2.62127382,  2.87509764,  2.90018722,\n",
       "        2.98933548,  2.87385715,  2.84444877,  2.83775694,  2.59606947,\n",
       "        2.74667046,  2.93685359,  2.80399235,  2.54679931,  2.95016867,\n",
       "        2.76866214,  2.90814251,  2.79599617,  2.75603513,  2.73255119,\n",
       "        2.81696999,  2.78580094,  2.87368337,  2.80985724,  2.73429713,\n",
       "        2.86474995,  2.58167815,  2.6426635 ,  2.91317067,  3.06206373,\n",
       "        2.55885668,  2.91332428,  2.72124918,  2.97053582,  2.73139306,\n",
       "        2.32209995,  2.69475459,  3.03883316,  2.96426862,  2.80714384,\n",
       "        2.66904414,  2.6439269 ,  2.78560018,  2.90368227,  2.90626913,\n",
       "        2.7931224 ,  2.27034109,  2.66159204,  3.01183596,  2.39599485,\n",
       "        2.92604595,  2.89191596,  2.84481277,  2.86825851,  2.5434451 ,\n",
       "        2.94386547,  2.92604595,  2.70008004,  2.54923491,  2.97748168,\n",
       "        2.96050247,  2.64635376,  2.6347361 ,  2.7938214 ,  2.96372782,\n",
       "        2.77524471,  2.82422572,  2.93227551,  2.72750137,  2.93822461,\n",
       "        2.72758958,  2.53731759,  2.76179788,  2.58167815,  2.93323198,\n",
       "        2.926199  ,  2.58586013,  2.71725248,  2.63180825,  2.80112586,\n",
       "        2.92604595,  2.82962021,  2.64328681,  2.60932926,  2.78104038,\n",
       "        2.88032836,  2.86055517,  2.72870993,  2.7397453 ,  2.8492034 ,\n",
       "        2.59362716,  2.56684696,  3.13773338,  2.87226792,  2.52459778,\n",
       "        3.14245174,  2.98241264,  2.73296042,  2.98119011,  2.83723524,\n",
       "        2.79599617,  2.82204766,  3.02818724,  2.39679318,  2.87509764,\n",
       "        3.00140058,  2.89138356,  2.75607471,  2.56684696,  2.91985296,\n",
       "        2.80112586,  2.63678277,  3.11635877,  2.64206786,  2.55650074,\n",
       "        2.80094612,  2.80985724,  2.83215885,  2.6597258 ,  2.97562729,\n",
       "        2.59401905,  2.89848629,  2.73887364,  2.82755693,  2.88888767,\n",
       "        3.0379045 ,  2.83016403,  2.85757839,  3.01332505,  2.96426862,\n",
       "        2.60817165,  2.77561607,  2.5249979 ,  2.84444877,  2.49947406,\n",
       "        2.79373489,  2.86653015,  2.88535481,  2.90680113,  2.88944005,\n",
       "        3.06819993,  2.91279325,  2.82507725,  2.98241264,  2.7621707 ,\n",
       "        2.8583356 ,  3.01516004,  2.74683161,  2.55885668,  2.85567841,\n",
       "        2.7621707 ,  2.9235745 ,  2.86810291,  2.87400609,  3.14245174,\n",
       "        2.83493822,  2.97748168,  2.85583456,  2.85567841,  2.61704181,\n",
       "        2.94316924,  2.73400222,  2.67212365,  2.69861137,  2.91969964,\n",
       "        2.70553746,  2.82010942,  2.83333115,  3.0398753 ,  2.87280698,\n",
       "        3.11174353,  2.82720116,  2.80847752,  2.93822461,  2.82811909,\n",
       "        2.68391206,  3.08726908,  2.98933548,  2.78207914,  2.72472198,\n",
       "        3.08854464,  2.75407585,  2.69160931,  2.25411738,  2.7621707 ,\n",
       "        2.58945497,  3.06897379,  2.95715434,  2.70959032,  2.88028666,\n",
       "        2.88441943,  2.92022962,  2.98948583,  2.56684696,  2.57215432,\n",
       "        2.8520106 ,  2.98241264,  2.94523379,  2.77879337,  2.82739952,\n",
       "        2.83463347,  2.54519921,  2.65398154,  2.70170795,  3.01447758,\n",
       "        2.9178148 ,  2.86479079,  2.68538405,  2.47045213,  2.64481831,\n",
       "        2.80969901,  2.82755693,  2.96226495,  2.62960168,  2.520978  ,\n",
       "        2.69160931,  3.04472151,  2.70742437,  2.90105927,  3.12443029,\n",
       "        2.78633047,  2.58945497,  2.70869419,  2.47464528,  2.90105927,\n",
       "        2.80969901,  2.9248039 ,  2.59118254,  2.86149505,  2.78722959,\n",
       "        2.78580094,  2.96426862,  2.7632599 ,  2.72322171,  2.82602678,\n",
       "        3.03304915,  2.62429928,  2.67212365,  2.80313749,  2.92727449,\n",
       "        2.91317067,  2.9178148 ,  2.69217548,  2.6669061 ,  2.88114405,\n",
       "        2.68665035,  2.63082518,  2.84185238,  2.89971521,  2.81696999,\n",
       "        2.87035748,  2.69861137,  2.31358425,  2.56684696,  2.81893261,\n",
       "        2.9178148 ,  2.88561456,  3.03805282,  2.82792079,  2.51706773,\n",
       "        2.69418753,  2.38752841,  2.92022962,  2.80823552,  2.88864589,\n",
       "        2.64596798,  2.53731759,  2.43338512,  2.87139054,  3.07364329,\n",
       "        2.91317067,  2.71377201,  2.85567841,  2.63586707,  2.74700455,\n",
       "        2.82953332,  2.69456782,  2.79583732,  2.69970037,  2.6515602 ,\n",
       "        2.71249373,  2.95729694,  2.86543466,  2.62397266,  2.75760623,\n",
       "        2.46636005,  2.67984781,  2.50082565,  2.76954265,  2.61627613,\n",
       "        2.8492034 ,  2.28794616,  2.9697405 ,  2.84587621,  2.93227551,\n",
       "        2.7110742 ,  2.90814251,  2.80342432,  2.73924898,  2.86093826,\n",
       "        2.79061788,  3.04472151,  2.81696999,  2.86756501,  2.63082518,\n",
       "        2.87055339,  2.66432893,  2.98744677,  2.70961334,  2.77438242,\n",
       "        2.62429687,  2.99684656,  2.73941048,  2.91279325,  2.71871005,\n",
       "        2.88114405,  2.93307925,  2.78580094,  2.66364611,  2.9346817 ,\n",
       "        2.89246973,  2.76704222,  2.80969901,  2.89584108,  2.77062951,\n",
       "        2.60207173,  2.72020039,  2.90352827,  2.74937023,  2.71491552,\n",
       "        2.73998725,  2.78351171,  3.02506126,  2.68007523,  3.02506126,\n",
       "        2.90020937,  2.7632599 ,  3.13773339,  2.79599617,  3.10018644,\n",
       "        2.74660862,  2.80576305,  2.45082174,  2.75691889,  2.83463347,\n",
       "        2.77365154,  2.5637712 ,  2.74069717,  2.76788502,  2.87001461,\n",
       "        2.93685359,  2.80329603,  2.78924935,  2.91279325,  2.84390719,\n",
       "        2.56684696,  2.62152952,  2.46618475,  2.97122671,  2.72239017,\n",
       "        2.55885668,  2.98256327,  2.64481831,  2.63533101,  2.72528265,\n",
       "        2.83322272,  2.85567841,  3.04550041,  2.72124918,  2.69314078,\n",
       "        2.75953431,  2.86505206,  2.9248039 ,  2.91060653,  2.56684696,\n",
       "        2.71887559,  2.91069019,  2.68338561,  2.74722946,  2.77561607,\n",
       "        2.86750343,  2.77504457,  2.65670257,  2.87503745,  2.85809706,\n",
       "        2.93227551,  2.97748168,  2.60812801,  2.54403693,  2.87893461,\n",
       "        2.84864462,  2.81340961,  2.86543466,  2.6933045 ,  2.91985296,\n",
       "        2.70357457,  2.65693312,  2.57191942,  2.919152  ,  2.76706253,\n",
       "        2.80313749,  2.93323198,  2.73887364,  3.14245174,  2.91969964,\n",
       "        3.09007932,  2.95396571,  2.8800913 ,  2.97068695,  2.92674555,\n",
       "        2.93120154,  3.03253564,  3.08854464,  3.0130353 ,  3.07364329,\n",
       "        2.6556556 ,  2.81494534,  3.04550041,  2.81478736,  3.00698276,\n",
       "        2.92515965,  2.97496361,  2.81320038,  3.04913944,  2.80791216,\n",
       "        3.07198463,  2.92022962,  2.91317067,  2.87400609,  3.04435773,\n",
       "        2.98948583,  2.89246973,  2.58037151,  3.00863658,  2.9227686 ,\n",
       "        2.99232496,  2.99440029,  3.0379045 ,  2.73420908,  3.02569557,\n",
       "        2.82422572,  2.99417074,  3.16531477,  2.95016867,  3.08854464,\n",
       "        2.76841732,  3.07364329,  2.87295118,  3.0877749 ,  2.98310123,\n",
       "        2.86756501,  2.98725723,  2.91317067,  2.9316665 ,  2.92604595,\n",
       "        3.03883316,  3.0933265 ,  2.9930507 ,  2.87400609,  3.06819993,\n",
       "        2.96921785,  2.64745799,  2.71015483,  2.82683532,  2.77524471,\n",
       "        3.00615808,  2.81247768,  3.03883316,  2.86794732,  2.8800913 ,\n",
       "        2.85794101,  3.02569557,  2.82602678,  2.89743872,  2.83296594,\n",
       "        2.98241264,  3.03304915,  2.93685359,  2.9483    ,  2.96936906,\n",
       "        2.57505271,  3.0398753 ,  3.08103822,  3.17189925,  2.98256327,\n",
       "        3.08854464,  3.10495312,  2.89971521,  2.88636574,  2.86756501,\n",
       "        2.81696999,  2.85567841,  2.91387283,  2.88223338,  3.14730803,\n",
       "        2.88481956,  2.96921785,  2.65956044,  2.9400986 ,  2.5952765 ,\n",
       "        2.89957025,  2.84587621,  2.98241264,  2.70208741,  2.98748723,\n",
       "        2.9820425 ,  2.96921785,  2.86674615,  2.8492034 ,  2.82720116,\n",
       "        2.7011893 ,  2.95513753,  2.93323198,  3.00615808,  2.93061272,\n",
       "        3.0933265 ,  2.67485197,  3.08103822,  2.96801283,  2.97668792,\n",
       "        3.10491394,  2.86285387,  2.98256327,  3.08854464,  2.49907081,\n",
       "        2.98362185,  2.9433625 ,  2.92635204,  2.74179323,  2.76825716,\n",
       "        3.14730803,  3.00698276,  2.80823552,  2.76161606,  2.86794732,\n",
       "        2.81326103,  3.0379045 ,  2.79583732,  2.92604595,  2.73012139,\n",
       "        2.99624498,  2.87259012,  2.93323198,  2.86794732,  2.59553423,\n",
       "        2.77245879,  2.85054844,  3.0398753 ,  2.82739952,  3.03200502,\n",
       "        3.111646  ,  3.16986363,  2.90934979,  3.10509874,  2.92022962,\n",
       "        2.88283397,  3.01317569,  2.91317067,  2.75125627,  2.96882902,\n",
       "        2.79349185,  2.97504576,  2.8517943 ,  2.98748723,  2.95513753,\n",
       "        2.94884315,  2.99624498,  2.89833204,  2.9400986 ,  3.03200502,\n",
       "        3.01317569,  2.926199  ,  2.91253363,  2.86810291,  2.79173599,\n",
       "        2.96736823,  2.80118863,  2.83312311,  3.14245174,  2.62390853,\n",
       "        2.70959032,  2.9930507 ,  2.82720116,  2.94184111,  2.95513753,\n",
       "        2.74179323,  2.96479199,  2.76067   ,  2.89466776,  2.82085154,\n",
       "        2.52288109,  2.89223532,  2.74774115,  2.91969964,  2.88422618,\n",
       "        2.8520106 ,  2.86149505,  3.0867464 ,  2.83491956,  2.95016867,\n",
       "        3.13581467,  2.88223338,  2.8458534 ,  2.80847752,  2.91969964,\n",
       "        2.86794732,  2.8800913 ,  2.98948583,  2.97562729,  2.94523379,\n",
       "        2.71507819,  3.08726908,  3.0933265 ,  2.98441408,  3.12331205,\n",
       "        2.69418753,  2.85794101,  2.85567841,  2.94199347,  2.89193555,\n",
       "        3.15378081,  3.13581467,  2.91279325,  2.87179214,  2.87310656,\n",
       "        2.64635376,  2.91183122,  3.06128838,  2.53852304,  2.99624498,\n",
       "        3.02003953,  2.98120922,  3.03200502,  2.83226386,  2.63848834,\n",
       "        2.7532789 ,  2.97906426,  2.9751055 ,  2.55218533,  2.89246973,\n",
       "        2.96426862,  2.9882786 ,  2.91332428,  2.76704222,  2.93307925,\n",
       "        2.99624498,  2.95046355,  3.06755306,  2.84055277,  2.91332428,\n",
       "        2.9882786 ,  2.98241264,  2.61584333,  2.67250643,  2.77950641,\n",
       "        2.97053582,  2.82720116,  2.66599857,  2.80561413,  2.8591936 ,\n",
       "        2.9930507 ,  2.90542075,  2.85706   ,  2.98124975,  2.81696999,\n",
       "        2.93307925,  2.73924898,  2.93307925,  2.8492034 ,  2.86794732,\n",
       "        2.58167815,  2.98933548,  3.01474262,  2.91969964,  2.65693312,\n",
       "        2.89227504,  2.97748168,  2.87295118,  2.79583732,  2.64635376,\n",
       "        3.02569557,  2.83215885,  3.03868485,  2.8543168 ,  2.83723524,\n",
       "        2.97175027,  2.80257126,  2.80368677,  2.8481224 ,  2.81974283,\n",
       "        2.82206994,  2.91060653,  2.88535481,  3.01317569,  3.03122321,\n",
       "        2.70758741,  2.95509806,  3.10981994,  2.78104038,  2.98256327,\n",
       "        2.82204766,  2.81478736,  2.76161606,  2.75587441,  2.95016867,\n",
       "        2.98609591,  2.66606118,  2.89714123,  3.13697391,  2.60719923,\n",
       "        2.82168128,  2.7926553 ,  2.82735859,  2.80714384,  2.86448863,\n",
       "        2.92674555,  2.88114405,  2.87509764,  3.10018644,  2.92486449,\n",
       "        2.87471611,  3.15378081,  2.88721689,  2.96907573,  2.93822461,\n",
       "        2.8273586 ,  2.93634963,  3.06948218,  2.76841732,  2.77318993,\n",
       "        3.14245174,  2.8178033 ,  3.14245174,  2.94312965,  2.86149505,\n",
       "        2.96801283,  3.04966932,  2.97748168,  2.89848629,  2.7469831 ,\n",
       "        3.14245174,  2.70758741,  2.81358872,  2.83215885,  2.93227551,\n",
       "        2.87848571,  2.84444877,  2.64596798,  2.7689892 ,  2.8492034 ,\n",
       "        2.81696999,  2.91317067,  3.03754003,  2.85307184,  2.98933548,\n",
       "        2.96698565,  3.0398753 ,  2.80983844,  2.86039924,  2.57994329,\n",
       "        2.63726764,  2.91969964,  2.47713498,  2.8150289 ,  2.72239017,\n",
       "        2.79452985,  2.99926768,  3.0379045 ,  2.7621707 ,  2.92382474,\n",
       "        2.919152  ,  2.64926894,  2.62004682,  2.98241264,  2.99995305,\n",
       "        2.98748723,  3.04067653,  2.89957025,  2.87509764,  2.82842738])"
      ]
     },
     "execution_count": 29,
     "metadata": {},
     "output_type": "execute_result"
    }
   ],
   "source": []
  },
  {
   "cell_type": "code",
   "execution_count": 86,
   "metadata": {
    "collapsed": false
   },
   "outputs": [
    {
     "data": {
      "text/plain": [
       "True"
      ]
     },
     "execution_count": 86,
     "metadata": {},
     "output_type": "execute_result"
    }
   ],
   "source": [
    "#h2 = calcH2Binary(XXT, phe, probs, thresholds, keepArr, prevalence, h2coeff)   \n"
   ]
  },
  {
   "cell_type": "code",
   "execution_count": 33,
   "metadata": {
    "collapsed": false
   },
   "outputs": [
    {
     "name": "stdout",
     "output_type": "stream",
     "text": [
      "1 loop, best of 3: 154 ms per loop\n"
     ]
    }
   ],
   "source": [
    "%%timeit\n",
    "np.dot(df, df.transpose())/df.shape[1]"
   ]
  },
  {
   "cell_type": "code",
   "execution_count": 32,
   "metadata": {
    "collapsed": false
   },
   "outputs": [
    {
     "name": "stdout",
     "output_type": "stream",
     "text": [
      "1 loop, best of 3: 354 ms per loop\n"
     ]
    }
   ],
   "source": [
    "%%timeit\n",
    "np.cov(df)"
   ]
  },
  {
   "cell_type": "code",
   "execution_count": null,
   "metadata": {
    "collapsed": true
   },
   "outputs": [],
   "source": []
  }
 ],
 "metadata": {
  "kernelspec": {
   "display_name": "Python 3",
   "language": "python",
   "name": "python3"
  },
  "language_info": {
   "codemirror_mode": {
    "name": "ipython",
    "version": 3
   },
   "file_extension": ".py",
   "mimetype": "text/x-python",
   "name": "python",
   "nbconvert_exporter": "python",
   "pygments_lexer": "ipython3",
   "version": "3.4.4"
  }
 },
 "nbformat": 4,
 "nbformat_minor": 0
}
