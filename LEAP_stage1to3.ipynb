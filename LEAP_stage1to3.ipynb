{
 "cells": [
  {
   "cell_type": "code",
   "execution_count": 1,
   "metadata": {
    "collapsed": false
   },
   "outputs": [],
   "source": [
    "##Load data:\n",
    "import os\n",
    "import re\n",
    "import numpy as np\n",
    "import pandas as pd\n",
    "from plinkio import plinkfile\n",
    "#from scipy.linalg.blas import dsyrk \n",
    "    #--can't find a way to get this working. Perhaps blas routines are missing.\n",
    "    \n",
    "data_path = '/home/jovyan/work/LEAP/leap/regression/dataset1'\n",
    "os.chdir(data_path)    "
   ]
  },
  {
   "cell_type": "code",
   "execution_count": 2,
   "metadata": {
    "collapsed": false
   },
   "outputs": [
    {
     "data": {
      "text/plain": [
       "'\\nauthor: gene burinskiy\\n\\nGoal: \\nFinding a set of individuals who are related to other individuals in the study. \\nLEAP employs a greedy algorithm to find a small subset of such individuals, \\nsuch that after their exclusion, there are no related individuals in the study. \\nThese individuals are excluded from the analysis in stages 3 and 4 below, \\nbut after fitting a model in stage 4, their liabilities are estimated along with \\nother indviduals. All individuals are considered in the GWAS stage (stage 5).\\n\\nsource: \\nhttps://github.com/omerwe/LEAP/blob/master/leap/regression/Leap_example.ipynb\\n'"
      ]
     },
     "execution_count": 2,
     "metadata": {},
     "output_type": "execute_result"
    }
   ],
   "source": [
    "\"\"\"\n",
    "author: gene burinskiy\n",
    "\n",
    "Goal: \n",
    "Finding a set of individuals who are related to other individuals in the study. \n",
    "LEAP employs a greedy algorithm to find a small subset of such individuals, \n",
    "such that after their exclusion, there are no related individuals in the study. \n",
    "These individuals are excluded from the analysis in stages 3 and 4 below, \n",
    "but after fitting a model in stage 4, their liabilities are estimated along with \n",
    "other indviduals. All individuals are considered in the GWAS stage (stage 5).\n",
    "\n",
    "source: \n",
    "https://github.com/omerwe/LEAP/blob/master/leap/regression/Leap_example.ipynb\n",
    "\"\"\""
   ]
  },
  {
   "cell_type": "code",
   "execution_count": 3,
   "metadata": {
    "collapsed": false
   },
   "outputs": [
    {
     "name": "stdout",
     "output_type": "stream",
     "text": [
      "Length of locuses 10499\n",
      "# of chromosomes in data: [ 1  2  3  4  5  6  7  8  9 10]\n",
      "Number of individuals in data: 1000\n"
     ]
    }
   ],
   "source": [
    "##Load data:\n",
    "bed = plinkfile.open(\"dataset1\")\n",
    "\n",
    "loci = bed.get_loci()\n",
    "print(\"Length of locuses\", len(loci))\n",
    "chromosomes = np.unique([x.chromosome for x in loci]\n",
    "print(\"# of chromosomes in data:\",chromosomes))\n",
    "\n",
    "samples = bed.get_samples()\n",
    "print(\"Number of individuals in data:\", len(samples))"
   ]
  },
  {
   "cell_type": "code",
   "execution_count": 4,
   "metadata": {
    "collapsed": false
   },
   "outputs": [
    {
     "name": "stdout",
     "output_type": "stream",
     "text": [
      "Data type: int16\n",
      "Size of bed matrix:   20mb\n",
      "\n",
      "<class 'pandas.core.frame.DataFrame'>\n",
      "Index: 1000 entries, person1 to person1000\n",
      "Columns: 10499 entries, csnp18 to snp10483\n",
      "dtypes: int16(10499)\n",
      "memory usage: 20.0+ MB\n"
     ]
    },
    {
     "data": {
      "text/html": [
       "<div>\n",
       "<table border=\"1\" class=\"dataframe\">\n",
       "  <thead>\n",
       "    <tr style=\"text-align: right;\">\n",
       "      <th></th>\n",
       "      <th>csnp18</th>\n",
       "      <th>csnp35</th>\n",
       "      <th>csnp59</th>\n",
       "      <th>csnp78</th>\n",
       "      <th>csnp85</th>\n",
       "    </tr>\n",
       "  </thead>\n",
       "  <tbody>\n",
       "    <tr>\n",
       "      <th>person1</th>\n",
       "      <td>2</td>\n",
       "      <td>1</td>\n",
       "      <td>1</td>\n",
       "      <td>2</td>\n",
       "      <td>1</td>\n",
       "    </tr>\n",
       "    <tr>\n",
       "      <th>person2</th>\n",
       "      <td>1</td>\n",
       "      <td>0</td>\n",
       "      <td>2</td>\n",
       "      <td>2</td>\n",
       "      <td>2</td>\n",
       "    </tr>\n",
       "    <tr>\n",
       "      <th>person3</th>\n",
       "      <td>0</td>\n",
       "      <td>2</td>\n",
       "      <td>2</td>\n",
       "      <td>2</td>\n",
       "      <td>2</td>\n",
       "    </tr>\n",
       "    <tr>\n",
       "      <th>person4</th>\n",
       "      <td>2</td>\n",
       "      <td>1</td>\n",
       "      <td>2</td>\n",
       "      <td>2</td>\n",
       "      <td>1</td>\n",
       "    </tr>\n",
       "    <tr>\n",
       "      <th>person5</th>\n",
       "      <td>0</td>\n",
       "      <td>1</td>\n",
       "      <td>2</td>\n",
       "      <td>1</td>\n",
       "      <td>2</td>\n",
       "    </tr>\n",
       "  </tbody>\n",
       "</table>\n",
       "</div>"
      ],
      "text/plain": [
       "         csnp18  csnp35  csnp59  csnp78  csnp85\n",
       "person1       2       1       1       2       1\n",
       "person2       1       0       2       2       2\n",
       "person3       0       2       2       2       2\n",
       "person4       2       1       2       2       1\n",
       "person5       0       1       2       1       2"
      ]
     },
     "execution_count": 4,
     "metadata": {},
     "output_type": "execute_result"
    }
   ],
   "source": [
    "##Place data into a dataframe:\n",
    "mat = np.zeros((len(loci),len(samples)), dtype='int16') #1/4 of the taken up space by using int16\n",
    "\n",
    "##don't know a faster method of extracting the data from the bed file.\n",
    "i=0\n",
    "for row in bed:\n",
    "    mat[i,:] = np.array([snp for snp in row])\n",
    "    i+=1\n",
    "    \n",
    "#this matrix is equivalent to transposed bed.val\n",
    "print(\"Data type:\", mat.dtype)\n",
    "print(\"Size of bed matrix: %4.0fmb\\n\" %(mat.nbytes/(1024**2)))\n",
    "\n",
    "df = pd.DataFrame(mat.transpose()) #normally, it reads them in as floats which is a huge waste of space\n",
    "df.columns = [x.name for x in loci] #loci name as the column name. Could add chromosomes in multi-index\n",
    "df.index = [x.iid for x in bed.get_samples()] #set person name as row name.\n",
    "df.info()\n",
    "df.iloc[:5,:5]"
   ]
  },
  {
   "cell_type": "code",
   "execution_count": 34,
   "metadata": {
    "collapsed": false
   },
   "outputs": [
    {
     "name": "stdout",
     "output_type": "stream",
     "text": [
      "<class 'pandas.core.frame.DataFrame'>\n",
      "Index: 1000 entries, person1 to person1000\n",
      "Columns: 10499 entries, csnp18 to snp10483\n",
      "dtypes: float32(10499)\n",
      "memory usage: 40.1+ MB\n",
      "\n",
      "Covariance shape: (1000, 1000)\n",
      "Covariance memory usage in mb: 3.814697265625\n"
     ]
    },
    {
     "data": {
      "text/plain": [
       "array([[ 0.36813208,  0.00128837, -0.00865506, -0.00119463,  0.00389233],\n",
       "       [ 0.00128837,  0.35822782,  0.00339447,  0.00228265,  0.00136905],\n",
       "       [-0.00865506,  0.00339447,  0.36281952,  0.00443562, -0.00057362],\n",
       "       [-0.00119463,  0.00228265,  0.00443562,  0.3630724 ,  0.00183871],\n",
       "       [ 0.00389233,  0.00136905, -0.00057362,  0.00183871,  0.37096033]], dtype=float32)"
      ]
     },
     "execution_count": 34,
     "metadata": {},
     "output_type": "execute_result"
    }
   ],
   "source": [
    "##compute covariance matrix between individuals, remove those who are too close to each other.\n",
    "#they LEAP code uses dsyrk which halves the computational time. Alas, we can't use it y\n",
    "\n",
    "df = df.astype('float32')-df.astype('float32').mean() \n",
    "df.info() #roughly doubled memory usage though still not the 80mb it was earlier\n",
    "\n",
    "cov = np.dot(df, df.transpose())/df.shape[1] #having difficulties with scipy's linalg module\n",
    "#note that the above takes more than half the time of np.cov\n",
    "print(\"\\nCovariance shape:\" , cov.shape)\n",
    "print(\"Covariance memory usage in mb:\", cov.nbytes/(1024**2))\n",
    "cov[:5,:5]"
   ]
  },
  {
   "cell_type": "code",
   "execution_count": 43,
   "metadata": {
    "collapsed": false
   },
   "outputs": [
    {
     "name": "stdout",
     "output_type": "stream",
     "text": [
      "shape of x: (56,)\n",
      "shape of y: (56,)\n",
      "\n",
      "removing 56 individuals\n"
     ]
    }
   ],
   "source": [
    "cutoff = .05\n",
    "bool_arr =  np.tril(cov, k=-1)>cutoff\n",
    "x_idx,y_idx = np.where(bool_arr)\n",
    "print(\"shape of x:\", x_idx.shape)\n",
    "print(\"shape of y:\", y_idx.shape)\n",
    "print(\"\\nremoving %d individuals\" %x_idx.shape[0])\n",
    "\n",
    "indxToExclude = np.array([x_idx, y_idx]).transpose() #note, they marked 54 so we marked more peeps."
   ]
  },
  {
   "cell_type": "code",
   "execution_count": null,
   "metadata": {
    "collapsed": false
   },
   "outputs": [],
   "source": []
  },
  {
   "cell_type": "code",
   "execution_count": 33,
   "metadata": {
    "collapsed": false
   },
   "outputs": [
    {
     "name": "stdout",
     "output_type": "stream",
     "text": [
      "1 loop, best of 3: 154 ms per loop\n"
     ]
    }
   ],
   "source": [
    "%%timeit\n",
    "np.dot(df, df.transpose())/df.shape[1]\n"
   ]
  },
  {
   "cell_type": "code",
   "execution_count": 32,
   "metadata": {
    "collapsed": false
   },
   "outputs": [
    {
     "name": "stdout",
     "output_type": "stream",
     "text": [
      "1 loop, best of 3: 354 ms per loop\n"
     ]
    }
   ],
   "source": [
    "%%timeit\n",
    "np.cov(df)"
   ]
  },
  {
   "cell_type": "code",
   "execution_count": null,
   "metadata": {
    "collapsed": true
   },
   "outputs": [],
   "source": []
  }
 ],
 "metadata": {
  "kernelspec": {
   "display_name": "Python 3",
   "language": "python",
   "name": "python3"
  },
  "language_info": {
   "codemirror_mode": {
    "name": "ipython",
    "version": 3
   },
   "file_extension": ".py",
   "mimetype": "text/x-python",
   "name": "python",
   "nbconvert_exporter": "python",
   "pygments_lexer": "ipython3",
   "version": "3.4.4"
  }
 },
 "nbformat": 4,
 "nbformat_minor": 0
}
